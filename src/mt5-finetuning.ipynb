{
 "cells": [
  {
   "cell_type": "markdown",
   "id": "3d08b53c",
   "metadata": {},
   "source": [
    "### Fine-tuning mt5 for cleaning italian ocr text"
   ]
  },
  {
   "cell_type": "code",
   "execution_count": 1,
   "id": "3a95dc9b",
   "metadata": {},
   "outputs": [
    {
     "name": "stderr",
     "output_type": "stream",
     "text": [
      "2025-08-18 14:16:14.926913: I tensorflow/core/platform/cpu_feature_guard.cc:210] This TensorFlow binary is optimized to use available CPU instructions in performance-critical operations.\n",
      "To enable the following instructions: AVX2 FMA, in other operations, rebuild TensorFlow with the appropriate compiler flags.\n"
     ]
    }
   ],
   "source": [
    "import matplotlib.pyplot as plt\n",
    "import numpy as np\n",
    "import torch\n",
    "from torch import optim\n",
    "from transformers import AutoModelForSeq2SeqLM, AutoTokenizer\n",
    "from torch.optim import AdamW\n",
    "from transformers import get_linear_schedule_with_warmup\n",
    "#from transformers import T5Tokenizer, MT5ForConditionalGeneration\n",
    "from tqdm.notebook import tqdm \n",
    "import evaluate\n",
    "import numpy as np\n",
    "from datasets import load_from_disk\n",
    "import seaborn as sns"
   ]
  },
  {
   "cell_type": "markdown",
   "id": "a49cb5de",
   "metadata": {},
   "source": [
    "#### Load datasets"
   ]
  },
  {
   "cell_type": "code",
   "execution_count": 2,
   "id": "e4dcaa27",
   "metadata": {},
   "outputs": [],
   "source": [
    "train = load_from_disk(\"../datasets/t5-datasets/train\")\n",
    "# shuffle the dataset\n",
    "train = train.shuffle(seed=42)\n",
    "\n",
    "# We reserve a 8% of the training set for evaluation\n",
    "train = train.train_test_split(test_size=0.08)"
   ]
  },
  {
   "cell_type": "code",
   "execution_count": 3,
   "id": "ad27f377",
   "metadata": {},
   "outputs": [],
   "source": [
    "train_dataset = train['train']\n",
    "eval_dataset = train['test']"
   ]
  },
  {
   "cell_type": "markdown",
   "id": "c5418579",
   "metadata": {},
   "source": [
    "#### Load mt5-small and its tokenizer"
   ]
  },
  {
   "cell_type": "code",
   "execution_count": 5,
   "id": "4a7f1fd3",
   "metadata": {},
   "outputs": [
    {
     "name": "stderr",
     "output_type": "stream",
     "text": [
      "You are using the default legacy behaviour of the <class 'transformers.models.t5.tokenization_t5.T5Tokenizer'>. This is expected, and simply means that the `legacy` (previous) behavior will be used so nothing changes for you. If you want to use the new behaviour, set `legacy=False`. This should only be set if you understand what it means, and thoroughly read the reason why this was added as explained in https://github.com/huggingface/transformers/pull/24565\n",
      "/home/gjergj/.local/lib/python3.10/site-packages/transformers/convert_slow_tokenizer.py:564: UserWarning: The sentencepiece tokenizer that you are converting to a fast tokenizer uses the byte fallback option which is not implemented in the fast tokenizers. In practice this means that the fast version of the tokenizer can produce unknown tokens whereas the sentencepiece version would have converted these unknown tokens into a sequence of byte tokens matching the original piece of text.\n",
      "  warnings.warn(\n"
     ]
    }
   ],
   "source": [
    "model = AutoModelForSeq2SeqLM.from_pretrained(\"../../mt5-small\")\n",
    "tokenizer = AutoTokenizer.from_pretrained(\"../../mt5-small\")"
   ]
  },
  {
   "cell_type": "markdown",
   "id": "c3caecb2",
   "metadata": {},
   "source": [
    "#### Preparing the data for fine-tuning"
   ]
  },
  {
   "cell_type": "code",
   "execution_count": 6,
   "id": "16107330",
   "metadata": {},
   "outputs": [
    {
     "data": {
      "image/png": "[encoded data removed]",
      "text/plain": [
       "<Figure size 640x480 with 1 Axes>"
      ]
     },
     "metadata": {},
     "output_type": "display_data"
    }
   ],
   "source": [
    "encoded_inputs_length = [] # store the length of the encoded samples\n",
    "\n",
    "for sample in train_dataset:\n",
    "    input_ids = tokenizer.encode(sample['ocr'], return_tensors='pt')\n",
    "    encoded_inputs_length.append(len(input_ids[0]))\n",
    "\n",
    "encoded_inputs_length.sort(reverse=True)\n",
    "\n",
    "sns.histplot(encoded_inputs_length, bins=10, discrete=True)\n",
    "\n",
    "plt.xlim(0, 300)\n",
    "plt.xlabel('input_ids length')\n",
    "plt.ylabel('Frequency')\n",
    "plt.title('Histogram of the lengths of the encoded inputs')\n",
    "\n",
    "plt.show()"
   ]
  },
  {
   "cell_type": "code",
   "execution_count": null,
   "id": "e777c4a4",
   "metadata": {},
   "outputs": [],
   "source": [
    "# As we can see from the plot, the length of the encoded inputs is concentrated in the range \n",
    "# from 0 to 50. Since setting a high value fro the input length is computationally expensive \n",
    "# we keep it for now equal to 35\n",
    "\n",
    "max_input_length = model.config.max_length          # which is 20 by default\n",
    "max_target_length = model.config.max_length"
   ]
  },
  {
   "cell_type": "code",
   "execution_count": 8,
   "id": "cb2a204e",
   "metadata": {},
   "outputs": [],
   "source": [
    "def encode_str(text, tokenizer, seq_len):\n",
    "    ''' \n",
    "    We define a function that tokenizes each sample, pads it to a certain max length, \n",
    "    and truncates samples that exeed such max length\n",
    "    '''\n",
    "    input_ids = tokenizer.encode(\n",
    "        text=text,\n",
    "        return_tensors = 'pt', \n",
    "        padding = 'max_length', \n",
    "        truncation = True, \n",
    "        max_length = seq_len\n",
    "    )\n",
    "\n",
    "    return input_ids[0]"
   ]
  },
  {
   "cell_type": "code",
   "execution_count": 9,
   "id": "09e5a856",
   "metadata": {},
   "outputs": [
    {
     "name": "stdout",
     "output_type": "stream",
     "text": [
      "{'ocr': \" \\nAllora  grandi  risate  daccapo  :  ma  l' omino,  in- \\n\\n\\nvece  di  ridere,  si  sentì  preso  da  tanto  amore  per \\nqueir  irrequieto  asinelio  che,  con  un  bacio,  gli \\nportò  via  di  netto  là  metà  di  quell'altro  orec- \\nchio.\", 'clean': 'Allora grandi risate daccapo: ma l’omino, invecedi ridere, si sentì preso da tanto amore per quell’irrequieto asinello che, con un bacio, gli portò via di netto la metà di quell’altro orecchio.'}\n"
     ]
    }
   ],
   "source": [
    "print(train['train'][0])"
   ]
  },
  {
   "cell_type": "code",
   "execution_count": 10,
   "id": "8d4fbf33",
   "metadata": {},
   "outputs": [
    {
     "name": "stdout",
     "output_type": "stream",
     "text": [
      "Encoded sample: \n",
      " tensor([   298, 100835,  30864, 103629,    346,    350,  15346,   1331,    259,\n",
      "           267,    496,    259,    280,    277,    542,   3877,    261,    281,\n",
      "           264,      1]) \n",
      " length: 20\n",
      "['▁A', 'llora', '▁grandi', '▁risa', 'te', '▁da', 'cca', 'po', '▁', ':', '▁ma', '▁', 'l', \"'\", '▁om', 'ino', ',', '▁in', '-', '</s>']\n"
     ]
    }
   ],
   "source": [
    "t1 = encode_str(train['train'][0]['ocr'], tokenizer, max_input_length)\n",
    "print(f'Encoded sample: \\n {t1} \\n length: {len(t1)}')\n",
    "\n",
    "# Let's print the actual tokens\n",
    "tokens = tokenizer.convert_ids_to_tokens(t1)\n",
    "print(tokens)"
   ]
  },
  {
   "cell_type": "code",
   "execution_count": 11,
   "id": "a2f97d91",
   "metadata": {},
   "outputs": [],
   "source": [
    "''' \n",
    "Now we want a function that encodes the input_text and the target_text, \n",
    "so here we are going to encode the ocr sample and the corresponding cleaned sample\n",
    "'''\n",
    "\n",
    "def encode_sample(sample, tokenizer, seq_input_len, seq_target_len):\n",
    "    ''' \n",
    "    sample: ['ocr', 'clean']\n",
    "    '''\n",
    "    ocr = sample['ocr']\n",
    "    clean = sample['clean']\n",
    "\n",
    "    if ocr is None or clean is None:\n",
    "        return None \n",
    "    \n",
    "    input_token_ids = encode_str(ocr, tokenizer, seq_input_len)\n",
    "    target_token_ids = encode_str(clean, tokenizer, seq_target_len)\n",
    "\n",
    "    return input_token_ids, target_token_ids"
   ]
  },
  {
   "cell_type": "code",
   "execution_count": 12,
   "id": "25c64798",
   "metadata": {},
   "outputs": [],
   "source": [
    "''' \n",
    "Now we define a function to encode batches of samples \n",
    "'''\n",
    "\n",
    "def encode_batch(batch, tokenizer):\n",
    "    inputs = []\n",
    "    targets = []\n",
    "\n",
    "    '''\n",
    "    - batch: dictionary of the for {'ocr': [list of ocr samples],\n",
    "                                    'clean': [list of the corresponding clean samples]} \n",
    "    - tokenizer: mt5 tokenizer\n",
    "    '''\n",
    "\n",
    "    ocr_samples = batch['ocr']\n",
    "    clean_samples = batch['clean']\n",
    "    for i in range(len(ocr_samples)):\n",
    "        sample = {}\n",
    "        sample['ocr'] = ocr_samples[i]\n",
    "        sample['clean'] = clean_samples[i]\n",
    "        \n",
    "        formatted_data = encode_sample(sample, tokenizer, max_input_length, max_target_length)\n",
    "\n",
    "        if formatted_data == None:\n",
    "            continue\n",
    "\n",
    "        input_ids, target_ids = formatted_data\n",
    "\n",
    "        inputs.append(input_ids.unsqueeze(0))\n",
    "        targets.append(target_ids.unsqueeze(0))\n",
    "\n",
    "    batch_input_ids = torch.cat(inputs)\n",
    "    batch_target_ids = torch.cat(targets)\n",
    "\n",
    "    return batch_input_ids, batch_target_ids"
   ]
  },
  {
   "cell_type": "code",
   "execution_count": 13,
   "id": "33bf5860",
   "metadata": {},
   "outputs": [],
   "source": [
    "''' \n",
    "function to create a generator object to generate batches of data\n",
    "'''\n",
    "def data_generator(dataset, tokenizer, batch_size):\n",
    "\n",
    "    for i in range(0, len(dataset), batch_size):\n",
    "        raw_batch = dataset[i:i+batch_size] \n",
    "        yield encode_batch(raw_batch, tokenizer)\n"
   ]
  },
  {
   "cell_type": "code",
   "execution_count": 13,
   "id": "b766d614",
   "metadata": {},
   "outputs": [
    {
     "name": "stdout",
     "output_type": "stream",
     "text": [
      "{'ocr': '  !  Vieni  qua \\nda  me,  e  dammi  un  bacio.', 'clean': 'Vieni qua da me e dammi un bacio.'}\n",
      "{'ocr': \" \\nAlla  fine,  e  per  sua  buona  fortuna,  venne  un'on- \\ndata tanto  prepotente  e  impetuosa,  che  lo  scara- \\nventò di  peso  sulla  rena  del  lido.\", 'clean': 'Alla fine, e per sua buona fortuna, venne un’ondata tanto prepotente e impetuosa, che lo scaraventò di peso sulla rena del lido.'}\n",
      "{'ocr': ' \\n—  Così  non  lo  posso  bere!  —  disse  il  burat- \\ntino, facendo  mille  smorfie.', 'clean': '— Così non lo posso bere!— disse il burattino, facendo mille smorfie.'}\n",
      "{'ocr': ' \\nI  carabinieri,  giudicando  che  fosse  difficile  rag- \\ngiungerlo, gli  aizzarono  dietro  un  grosso  cane \\nmastino  che  aveva  guadagnato  il  inumo  i)remio \\na  tutte  le  corse  dei  cani.', 'clean': 'I carabinieri, giudicando che fosse difficile raggiungerlo, gli aizzarono dietro un grosso cane mastino che aveva guadagnato il primo premio a tutte le corse dei cani.'}\n",
      "{'ocr': \" \\n—  Duemila!  —  ripetè  il  Gatto. \\n—  Ma  com'è  mai  possibile  che  diventino  tanti?\", 'clean': '— Duemila!— ripetè il Gatto.— Ma com’è mai possibile che diventino tanti?'}\n",
      "{'ocr': \"  !  per  questa  sera  mi  rassegnerò  a \\nmangiare  il  montone  mezzo  crudo:  ma  un'altra \\nvolta,  guai  a  chi  toccherà  !...\", 'clean': 'per questa sera mi rassegnerò a mangiare il montone mezzo crudo: ma un’altra volta, guai a chi toccherà!...'}\n",
      "{'ocr': \" \\n—  Sai)essi  almeno  come  si  chiama  quest'isola!\", 'clean': '— Sapessi almeno come si chiama quest’isola!'}\n",
      "{'ocr': '  Poi,  alzando  il  viso  e  guar- \\ndandola amorosamente,  le  domandò: \\n—  Dimmi,  mammina:  dunque  non  è  vero  che \\ntu  sia  morta?', 'clean': 'Poi, alzando il viso e guardandola amorosamente, le domandò:\\n— Dimmi, mammina: dunque non è vero che tu sia morta?'}\n",
      "{'ocr': '  !  Faresti  me- \\nglio a  succiare  due  pasticche  di  lichene  per  gua- \\nrire da  codesta  infreddatura  di  gola.', 'clean': 'Faresti meglio a succiare due pasticche di lichene per guarire da codesta infreddatura di gola.'}\n",
      "{'ocr': \" \\n\\n\\nInvece  di  un  ciuchiuo  morto,  vide  apparire  a  fior  d'acqua \\nnn  burattiuo  vivo.\", 'clean': \"Invece di un ciuchino morto, vide apparire a fior d'acqua un burattino vivo.\"}\n",
      "{'ocr': \" \\n—  Ora,  ragazzo  mio,  siamo  beli' e  perduti.\", 'clean': '— Ora, ragazzo mio, siamo bell’e perduti.'}\n",
      "{'ocr': ' \\n—  Dunque  ?  —  gii  domandarono  gli  assassini  — \\nvuoi  aprirla  la  bocca,  sì  o  no?', 'clean': '— Dunque?— gli domandarono gli assassini — vuoi aprirla la bocca, sì o no?'}\n",
      "{'ocr': '  — \\nE  a  titolo  di  correzione,  gli  affibbio  subito  una \\nfrustata  nelle  gambe. \\n\\n\\nPinocchio,  dal  gran  dolore,  cominciò  a  pian- \\ngere e  a  ragliare,  e  ragliando  disse: \\n—  J-a,  j-a,  la  paglia  non  la  posso  digerire  !... \\n—  Allora  mangia  il  fieno', 'clean': '―\\nE a titolo di correzione, gli affibbiò subito una frustata nelle gambe.Pinocchio, dal gran dolore, cominciò a piangere e a ragliare, e ragliando, disse:\\n— J-a, j-a, la paglia non la posso digerire!…\\n— Allora mangia il fieno!'}\n",
      "{'ocr': \" \\n\\n\\nDi  lì  a  poco,  si  vide  uscire  dalla  scuderia  uua \\nbella  carrozzina  color  dell'aria,  tutta  imbottita \\ndi  penne  di  canarino  e  foderata  nell'interno  di \\npanna  montata  e  di  crema  coi  savoiardi.\", 'clean': 'Di lì a poco, si vide uscire dalla scuderia una bella carrozzina color dell’aria, tutta imbottita di penne di canarino e foderata nell’interno di panna montata e di crema coi savoiardi.'}\n",
      "{'ocr': ' Eicordatevi,  però,  cbe  a  mezzanotte  vo- \\ngliamo essere  svegliati  per  continuare  il  nostro \\nviaggio.', 'clean': 'Ricordatevi, però, che a mezzanotte vogliamo essere svegliati per continuare il nostro viaggio.'}\n",
      "{'ocr': ' \\nOra  poi  non  vi  lascio  più,  mai  più,  mai  più!', 'clean': 'Ora poi non vi lascio più, mai più, mai più!'}\n"
     ]
    }
   ],
   "source": [
    "raw_batch = train_dataset[0: 16]\n",
    "ocr_samples = raw_batch['ocr']\n",
    "clean_samples = raw_batch['clean']\n",
    "for i in range(len(ocr_samples)):\n",
    "    sample = {}\n",
    "    sample['ocr'] = ocr_samples[i]\n",
    "    sample['clean'] = clean_samples[i]\n",
    "\n",
    "    print(sample)"
   ]
  },
  {
   "cell_type": "code",
   "execution_count": 14,
   "id": "aa856ed6",
   "metadata": {},
   "outputs": [
    {
     "name": "stdout",
     "output_type": "stream",
     "text": [
      "Input shape: torch.Size([8, 20])\n",
      "Output shape: torch.Size([8, 20])\n"
     ]
    }
   ],
   "source": [
    "data_gen = data_generator(train_dataset, tokenizer, batch_size=8)\n",
    "data_batch = next(data_gen)\n",
    "#print('data_batch:',data_batch)\n",
    "print('Input shape:', data_batch[0].shape)\n",
    "print('Output shape:', data_batch[1].shape)"
   ]
  },
  {
   "cell_type": "markdown",
   "id": "07ca09df",
   "metadata": {},
   "source": [
    "### Training "
   ]
  },
  {
   "cell_type": "code",
   "execution_count": 24,
   "id": "8ab6c868",
   "metadata": {},
   "outputs": [],
   "source": [
    "# training hyperparameters\n",
    "n_epochs = 3\n",
    "batch_size = 8\n",
    "eval_batch_size = 4\n",
    "print_freq = 25 \n",
    "lr = 5e-4\n",
    "n_batches = int(np.ceil(len(train_dataset) / batch_size))\n",
    "total_steps = n_epochs * n_batches \n",
    "n_warmup_steps = int(total_steps * 0.01)"
   ]
  },
  {
   "cell_type": "code",
   "execution_count": 25,
   "id": "4346ad49",
   "metadata": {},
   "outputs": [
    {
     "name": "stdout",
     "output_type": "stream",
     "text": [
      "Total Steps: 624\n",
      "Warmup Steps: 6\n"
     ]
    }
   ],
   "source": [
    "print(f'Total Steps: {total_steps}')\n",
    "print(f'Warmup Steps: {n_warmup_steps}')"
   ]
  },
  {
   "cell_type": "code",
   "execution_count": null,
   "id": "a4859f3a",
   "metadata": {},
   "outputs": [],
   "source": [
    "# Optimizer\n",
    "optimizer = AdamW(model.parameters(), lr=lr)\n",
    "# We define a scheduler that will take care of adapting the learning rate\n",
    "scheduler = get_linear_schedule_with_warmup(optimizer, n_warmup_steps, total_steps)"
   ]
  },
  {
   "cell_type": "code",
   "execution_count": 18,
   "id": "e5d7d1b9",
   "metadata": {},
   "outputs": [],
   "source": [
    "train_loss = []\n",
    "eval_losses = []"
   ]
  },
  {
   "cell_type": "markdown",
   "id": "3b6a998e",
   "metadata": {},
   "source": [
    "**Evaluation function**"
   ]
  },
  {
   "cell_type": "code",
   "execution_count": null,
   "id": "9407e6d2",
   "metadata": {},
   "outputs": [],
   "source": [
    "def eval_model(model, dataset):\n",
    "    eval_data = data_generator(dataset, tokenizer, eval_batch_size)\n",
    "\n",
    "    eval_losses = []\n",
    "    for _, (input_batch, label_batch) in enumerate(eval_data):\n",
    "        \n",
    "        # forward pass\n",
    "        with torch.no_grad()\n",
    "            model_out = model.forward(input_ids=input_batch, \n",
    "                                    labels=label_batch)\n",
    "        \n",
    "        eval_losses.append(model_out.loss.item())\n",
    "\n",
    "    \n",
    "    return np.mean(eval_losses)\n",
    "\n"
   ]
  },
  {
   "cell_type": "markdown",
   "id": "c8c606ca",
   "metadata": {},
   "source": [
    "**Training framework**"
   ]
  },
  {
   "cell_type": "code",
   "execution_count": 20,
   "id": "1657735f",
   "metadata": {},
   "outputs": [
    {
     "data": {
      "application/vnd.jupyter.widget-view+json": {
       "model_id": "172a6096ba4544dc84e85a5418853ff6",
       "version_major": 2,
       "version_minor": 0
      },
      "text/plain": [
       "  0%|          | 0/208 [00:00<?, ?it/s]"
      ]
     },
     "metadata": {},
     "output_type": "display_data"
    },
    {
     "name": "stderr",
     "output_type": "stream",
     "text": [
      "Passing a tuple of `past_key_values` is deprecated and will be removed in Transformers v4.48.0. You should pass an instance of `EncoderDecoderCache` instead, e.g. `past_key_values=EncoderDecoderCache.from_legacy_cache(past_key_values)`.\n"
     ]
    },
    {
     "name": "stdout",
     "output_type": "stream",
     "text": [
      "Epoch: 1 | Step: 25 | Avg. train loss: 21.310 | Avg. val loss: 14.493 | lr: 0.0004927184466019418\n",
      "Epoch: 1 | Step: 50 | Avg. train loss: 8.966 | Avg. val loss: 5.665 | lr: 0.0004805825242718447\n",
      "Epoch: 1 | Step: 75 | Avg. train loss: 4.224 | Avg. val loss: 3.748 | lr: 0.0004684466019417476\n",
      "Epoch: 1 | Step: 100 | Avg. train loss: 3.248 | Avg. val loss: 3.044 | lr: 0.0004563106796116505\n",
      "Epoch: 1 | Step: 125 | Avg. train loss: 2.712 | Avg. val loss: 2.482 | lr: 0.0004441747572815534\n",
      "Epoch: 1 | Step: 150 | Avg. train loss: 2.184 | Avg. val loss: 2.164 | lr: 0.00043203883495145627\n",
      "Epoch: 1 | Step: 175 | Avg. train loss: 1.957 | Avg. val loss: 1.886 | lr: 0.0004199029126213592\n",
      "Epoch: 1 | Step: 200 | Avg. train loss: 1.738 | Avg. val loss: 1.658 | lr: 0.00040776699029126213\n"
     ]
    },
    {
     "data": {
      "application/vnd.jupyter.widget-view+json": {
       "model_id": "c25a8c5453a2465fb7d5a4d63efc8275",
       "version_major": 2,
       "version_minor": 0
      },
      "text/plain": [
       "  0%|          | 0/208 [00:00<?, ?it/s]"
      ]
     },
     "metadata": {},
     "output_type": "display_data"
    },
    {
     "name": "stdout",
     "output_type": "stream",
     "text": [
      "Epoch: 2 | Step: 25 | Avg. train loss: 1.351 | Avg. val loss: 1.405 | lr: 0.00039174757281553395\n",
      "Epoch: 2 | Step: 50 | Avg. train loss: 1.145 | Avg. val loss: 1.331 | lr: 0.0003796116504854369\n",
      "Epoch: 2 | Step: 75 | Avg. train loss: 1.064 | Avg. val loss: 1.244 | lr: 0.0003674757281553398\n",
      "Epoch: 2 | Step: 100 | Avg. train loss: 1.059 | Avg. val loss: 1.182 | lr: 0.0003553398058252427\n",
      "Epoch: 2 | Step: 125 | Avg. train loss: 0.974 | Avg. val loss: 1.133 | lr: 0.00034320388349514563\n",
      "Epoch: 2 | Step: 150 | Avg. train loss: 0.953 | Avg. val loss: 1.104 | lr: 0.00033106796116504853\n",
      "Epoch: 2 | Step: 175 | Avg. train loss: 0.845 | Avg. val loss: 1.054 | lr: 0.0003189320388349515\n",
      "Epoch: 2 | Step: 200 | Avg. train loss: 0.879 | Avg. val loss: 1.054 | lr: 0.0003067961165048544\n"
     ]
    },
    {
     "data": {
      "application/vnd.jupyter.widget-view+json": {
       "model_id": "b6396125a3d9471fb681b6d832ef9116",
       "version_major": 2,
       "version_minor": 0
      },
      "text/plain": [
       "  0%|          | 0/208 [00:00<?, ?it/s]"
      ]
     },
     "metadata": {},
     "output_type": "display_data"
    },
    {
     "name": "stdout",
     "output_type": "stream",
     "text": [
      "Epoch: 3 | Step: 25 | Avg. train loss: 0.716 | Avg. val loss: 1.010 | lr: 0.0002907766990291262\n",
      "Epoch: 3 | Step: 50 | Avg. train loss: 0.674 | Avg. val loss: 1.008 | lr: 0.0002786407766990292\n",
      "Epoch: 3 | Step: 75 | Avg. train loss: 0.694 | Avg. val loss: 1.010 | lr: 0.0002665048543689321\n",
      "Epoch: 3 | Step: 100 | Avg. train loss: 0.737 | Avg. val loss: 0.997 | lr: 0.00025436893203883493\n",
      "Epoch: 3 | Step: 125 | Avg. train loss: 0.696 | Avg. val loss: 0.975 | lr: 0.00024223300970873787\n",
      "Epoch: 3 | Step: 150 | Avg. train loss: 0.684 | Avg. val loss: 0.977 | lr: 0.00023009708737864077\n",
      "Epoch: 3 | Step: 175 | Avg. train loss: 0.606 | Avg. val loss: 0.961 | lr: 0.00021796116504854368\n",
      "Epoch: 3 | Step: 200 | Avg. train loss: 0.620 | Avg. val loss: 0.966 | lr: 0.0002058252427184466\n"
     ]
    },
    {
     "data": {
      "application/vnd.jupyter.widget-view+json": {
       "model_id": "8d1808d6c39d4600a2cc3c535c841ca7",
       "version_major": 2,
       "version_minor": 0
      },
      "text/plain": [
       "  0%|          | 0/208 [00:00<?, ?it/s]"
      ]
     },
     "metadata": {},
     "output_type": "display_data"
    },
    {
     "name": "stdout",
     "output_type": "stream",
     "text": [
      "Epoch: 4 | Step: 25 | Avg. train loss: 0.514 | Avg. val loss: 0.959 | lr: 0.00018980582524271846\n",
      "Epoch: 4 | Step: 50 | Avg. train loss: 0.502 | Avg. val loss: 0.979 | lr: 0.00017766990291262136\n",
      "Epoch: 4 | Step: 75 | Avg. train loss: 0.494 | Avg. val loss: 0.970 | lr: 0.00016553398058252427\n",
      "Epoch: 4 | Step: 100 | Avg. train loss: 0.562 | Avg. val loss: 0.956 | lr: 0.0001533980582524272\n",
      "Epoch: 4 | Step: 125 | Avg. train loss: 0.518 | Avg. val loss: 0.953 | lr: 0.00014126213592233008\n",
      "Epoch: 4 | Step: 150 | Avg. train loss: 0.511 | Avg. val loss: 0.960 | lr: 0.000129126213592233\n",
      "Epoch: 4 | Step: 175 | Avg. train loss: 0.455 | Avg. val loss: 1.001 | lr: 0.00011699029126213593\n",
      "Epoch: 4 | Step: 200 | Avg. train loss: 0.463 | Avg. val loss: 1.005 | lr: 0.00010485436893203885\n"
     ]
    },
    {
     "data": {
      "application/vnd.jupyter.widget-view+json": {
       "model_id": "ac42bb5f14544fd4b8d2a1d5490ce87a",
       "version_major": 2,
       "version_minor": 0
      },
      "text/plain": [
       "  0%|          | 0/208 [00:00<?, ?it/s]"
      ]
     },
     "metadata": {},
     "output_type": "display_data"
    },
    {
     "name": "stdout",
     "output_type": "stream",
     "text": [
      "Epoch: 5 | Step: 25 | Avg. train loss: 0.366 | Avg. val loss: 1.003 | lr: 8.883495145631068e-05\n",
      "Epoch: 5 | Step: 50 | Avg. train loss: 0.371 | Avg. val loss: 0.982 | lr: 7.66990291262136e-05\n",
      "Epoch: 5 | Step: 75 | Avg. train loss: 0.372 | Avg. val loss: 1.006 | lr: 6.45631067961165e-05\n",
      "Epoch: 5 | Step: 100 | Avg. train loss: 0.418 | Avg. val loss: 0.990 | lr: 5.242718446601942e-05\n",
      "Epoch: 5 | Step: 125 | Avg. train loss: 0.398 | Avg. val loss: 0.985 | lr: 4.029126213592233e-05\n",
      "Epoch: 5 | Step: 150 | Avg. train loss: 0.393 | Avg. val loss: 0.990 | lr: 2.8155339805825243e-05\n",
      "Epoch: 5 | Step: 175 | Avg. train loss: 0.339 | Avg. val loss: 1.026 | lr: 1.6019417475728155e-05\n",
      "Epoch: 5 | Step: 200 | Avg. train loss: 0.348 | Avg. val loss: 1.038 | lr: 3.883495145631068e-06\n"
     ]
    }
   ],
   "source": [
    "for epoch_idx in range(n_epochs):\n",
    "    data = data_generator(train_dataset, tokenizer, batch_size)\n",
    "\n",
    "    for batch_idx, (input_batch, label_batch) in tqdm(enumerate(data), total=n_batches):\n",
    "\n",
    "        # zero the gradients\n",
    "        optimizer.zero_grad()\n",
    "\n",
    "        # forward pass\n",
    "        model_out = model.forward(\n",
    "            input_ids = input_batch, \n",
    "            labels = label_batch    # not strictly necessarily, but if we do it,\n",
    "                                    # it computes the loss for us\n",
    "        )\n",
    "\n",
    "        loss = model_out.loss\n",
    "        train_loss.append(loss.item())\n",
    "\n",
    "        # compute the gradients\n",
    "        loss.backward()\n",
    "\n",
    "        # update the weights\n",
    "        optimizer.step()\n",
    "\n",
    "        # The scheduler adaptes the leraning rate\n",
    "        scheduler.step()\n",
    "\n",
    "        if (batch_idx + 1) % print_freq == 0:\n",
    "            #average loss for the last 'print_freq' batches\n",
    "            avg_loss = np.mean(train_loss[-print_freq:])\n",
    "            eval_loss = eval_model(model, eval_dataset)\n",
    "            eval_losses.append(eval_loss)\n",
    "            print('Epoch: {} | Step: {} | Avg. train loss: {:.3f} | Avg. val loss: {:.3f} | lr: {}'.format(\n",
    "                epoch_idx+1, batch_idx+1, avg_loss, eval_loss, scheduler.get_last_lr()[0]))\n",
    "\n",
    "torch.save(model.state_dict(), '../model/new_mt5_finetuned')\n",
    "\n"
   ]
  },
  {
   "cell_type": "markdown",
   "id": "8e6c8710",
   "metadata": {},
   "source": [
    "#### Plots"
   ]
  },
  {
   "cell_type": "code",
   "execution_count": 21,
   "id": "d39fcc5d",
   "metadata": {},
   "outputs": [],
   "source": [
    "def plot(data, label):\n",
    "    plt.plot(data, label=label)\n",
    "    plt.legend()\n",
    "    plt.show()"
   ]
  },
  {
   "cell_type": "code",
   "execution_count": null,
   "id": "addab164",
   "metadata": {},
   "outputs": [
    {
     "data": {
      "image/png": "[encoded data removed]",
      "text/plain": [
       "<Figure size 640x480 with 1 Axes>"
      ]
     },
     "metadata": {},
     "output_type": "display_data"
    }
   ],
   "source": [
    "plot(train_loss, label='Train loss')"
   ]
  },
  {
   "cell_type": "code",
   "execution_count": 23,
   "id": "f811dd87",
   "metadata": {},
   "outputs": [
    {
     "data": {
      "image/png": "[encoded data removed]",
      "text/plain": [
       "<Figure size 640x480 with 1 Axes>"
      ]
     },
     "metadata": {},
     "output_type": "display_data"
    }
   ],
   "source": [
    "plot(eval_losses, label='Evaluation loss')"
   ]
  },
  {
   "cell_type": "markdown",
   "id": "25b26f23",
   "metadata": {},
   "source": [
    "#### Testing and Inference"
   ]
  },
  {
   "cell_type": "code",
   "execution_count": 26,
   "id": "a4be470d",
   "metadata": {},
   "outputs": [],
   "source": [
    "# Load the test dataset\n",
    "test = load_from_disk(\"../datasets/t5-datasets/test\")"
   ]
  },
  {
   "cell_type": "code",
   "execution_count": 59,
   "id": "9bea95cb",
   "metadata": {},
   "outputs": [],
   "source": [
    "ocr_sample = test[65]['ocr']\n",
    "clean_sample = test[65]['clean']"
   ]
  },
  {
   "cell_type": "code",
   "execution_count": 60,
   "id": "805aa568",
   "metadata": {},
   "outputs": [
    {
     "name": "stdout",
     "output_type": "stream",
     "text": [
      "ocr_sample:\n",
      " \n",
      "—  Io  non  ve  1'  ho  tirato  ! \n",
      "—  Bugiardo!\n",
      "\n",
      "clean_sample:\n",
      "— Io non ve l’ho tirato!— Bugiardo!\n"
     ]
    }
   ],
   "source": [
    "print(f'ocr_sample:\\n{ocr_sample}\\n')\n",
    "print(f'clean_sample:\\n{clean_sample}')"
   ]
  },
  {
   "cell_type": "code",
   "execution_count": 68,
   "id": "e5592064",
   "metadata": {},
   "outputs": [
    {
     "name": "stdout",
     "output_type": "stream",
     "text": [
      "— Io non ve non ho tirato!— Bugiardo!\n"
     ]
    }
   ],
   "source": [
    "input_ids = encode_str(ocr_sample, tokenizer, max_input_length)\n",
    "input_ids = input_ids.unsqueeze(0)\n",
    "\n",
    "output_tokens = model.generate(input_ids, num_beams=1, num_return_sequences=1)\n",
    "prediction = tokenizer.decode(output_tokens[0], skip_special_tokens=True)\n",
    "print(prediction)"
   ]
  },
  {
   "cell_type": "code",
   "execution_count": 62,
   "id": "c9ab761f",
   "metadata": {},
   "outputs": [
    {
     "name": "stdout",
     "output_type": "stream",
     "text": [
      "— Io non ve non ho tirato!— Bugiardo!\n"
     ]
    }
   ],
   "source": [
    "for token_set in output_tokens:\n",
    "    prediction = tokenizer.decode(token_set,skip_special_tokens=True)\n",
    "\n",
    "    print(prediction)"
   ]
  },
  {
   "cell_type": "markdown",
   "id": "bed498a3",
   "metadata": {},
   "source": [
    "#### Rouge scores"
   ]
  },
  {
   "cell_type": "code",
   "execution_count": 63,
   "id": "c89b0e4f",
   "metadata": {},
   "outputs": [],
   "source": [
    "metric = evaluate.load(\"rouge\")"
   ]
  },
  {
   "cell_type": "code",
   "execution_count": 84,
   "id": "00c5fdd1",
   "metadata": {},
   "outputs": [],
   "source": [
    "def compute_rouge(dataset, model):\n",
    "    '''\n",
    "    - dataset: test dataset \n",
    "    '''\n",
    "\n",
    "    model.eval()\n",
    "\n",
    "    test_data = data_generator(dataset, tokenizer, batch_size=4)\n",
    "\n",
    "    all_decoded_preds = []\n",
    "    all_decoded_labels = []\n",
    "\n",
    "    #test_losses = []\n",
    "    for _, (input_batch, label_batch) in enumerate(test_data):\n",
    "        preds = model.generate(input_batch, num_beams=1, num_return_sequences=1)\n",
    "        decoded_preds = tokenizer.batch_decode(preds, skip_special_tokens=True)\n",
    "        decoded_labels = tokenizer.batch_decode(label_batch, skip_special_tokens=True)\n",
    "\n",
    "        all_decoded_preds.extend(decoded_preds)\n",
    "        all_decoded_labels.extend(decoded_labels)\n",
    "\n",
    "    result = metric.compute(predictions=all_decoded_preds, references=all_decoded_labels)\n",
    "\n",
    "    return result\n",
    "    \n"
   ]
  },
  {
   "cell_type": "code",
   "execution_count": 85,
   "id": "128621dd",
   "metadata": {},
   "outputs": [],
   "source": [
    "rouge_scores = compute_rouge(test, model)"
   ]
  },
  {
   "cell_type": "code",
   "execution_count": 86,
   "id": "0282e00e",
   "metadata": {},
   "outputs": [
    {
     "name": "stdout",
     "output_type": "stream",
     "text": [
      "{'rouge1': 0.7774912485382005, 'rouge2': 0.69925788533276, 'rougeL': 0.7726068291210269, 'rougeLsum': 0.7731892934093172}\n"
     ]
    }
   ],
   "source": [
    "print(rouge_scores)"
   ]
  }
 ],
 "metadata": {
  "kernelspec": {
   "display_name": "Python 3",
   "language": "python",
   "name": "python3"
  },
  "language_info": {
   "codemirror_mode": {
    "name": "ipython",
    "version": 3
   },
   "file_extension": ".py",
   "mimetype": "text/x-python",
   "name": "python",
   "nbconvert_exporter": "python",
   "pygments_lexer": "ipython3",
   "version": "3.10.12"
  }
 },
 "nbformat": 4,
 "nbformat_minor": 5
}
