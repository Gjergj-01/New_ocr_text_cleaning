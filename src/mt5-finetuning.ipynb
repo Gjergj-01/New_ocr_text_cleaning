{
 "cells": [
  {
   "cell_type": "markdown",
   "id": "3d08b53c",
   "metadata": {},
   "source": [
    "### Fine-tuning mt5 for cleaning italian ocr text"
   ]
  },
  {
   "cell_type": "code",
   "execution_count": 1,
   "id": "3a95dc9b",
   "metadata": {},
   "outputs": [
    {
     "name": "stderr",
     "output_type": "stream",
     "text": [
      "2025-08-22 21:19:03.625611: I tensorflow/core/platform/cpu_feature_guard.cc:210] This TensorFlow binary is optimized to use available CPU instructions in performance-critical operations.\n",
      "To enable the following instructions: AVX2 FMA, in other operations, rebuild TensorFlow with the appropriate compiler flags.\n"
     ]
    }
   ],
   "source": [
    "import matplotlib.pyplot as plt\n",
    "import numpy as np\n",
    "import torch\n",
    "import torch.utils.data as data\n",
    "from torch.utils.data import Dataset, DataLoader\n",
    "from transformers import AutoModelForSeq2SeqLM, AutoTokenizer\n",
    "from torch.optim import AdamW\n",
    "from transformers import get_linear_schedule_with_warmup\n",
    "from tqdm.notebook import tqdm \n",
    "import evaluate\n",
    "import numpy as np\n",
    "from datasets import load_from_disk\n",
    "import seaborn as sns\n",
    "import random"
   ]
  },
  {
   "cell_type": "markdown",
   "id": "a49cb5de",
   "metadata": {},
   "source": [
    "#### Load datasets"
   ]
  },
  {
   "cell_type": "code",
   "execution_count": 2,
   "id": "e4dcaa27",
   "metadata": {},
   "outputs": [],
   "source": [
    "train = load_from_disk(\"../datasets/t5-datasets/train\")\n",
    "\n",
    "# We reserve a 10% of the training set for evaluation\n",
    "train = train.train_test_split(test_size=0.1)"
   ]
  },
  {
   "cell_type": "code",
   "execution_count": 3,
   "id": "ad27f377",
   "metadata": {},
   "outputs": [],
   "source": [
    "train_dataset = train['train']\n",
    "eval_dataset = train['test']"
   ]
  },
  {
   "cell_type": "markdown",
   "id": "c5418579",
   "metadata": {},
   "source": [
    "#### Load mt5-small and its tokenizer"
   ]
  },
  {
   "cell_type": "code",
   "execution_count": 4,
   "id": "4a7f1fd3",
   "metadata": {},
   "outputs": [
    {
     "name": "stderr",
     "output_type": "stream",
     "text": [
      "You are using the default legacy behaviour of the <class 'transformers.models.t5.tokenization_t5.T5Tokenizer'>. This is expected, and simply means that the `legacy` (previous) behavior will be used so nothing changes for you. If you want to use the new behaviour, set `legacy=False`. This should only be set if you understand what it means, and thoroughly read the reason why this was added as explained in https://github.com/huggingface/transformers/pull/24565\n",
      "/home/gjergj/.local/lib/python3.10/site-packages/transformers/convert_slow_tokenizer.py:564: UserWarning: The sentencepiece tokenizer that you are converting to a fast tokenizer uses the byte fallback option which is not implemented in the fast tokenizers. In practice this means that the fast version of the tokenizer can produce unknown tokens whereas the sentencepiece version would have converted these unknown tokens into a sequence of byte tokens matching the original piece of text.\n",
      "  warnings.warn(\n"
     ]
    }
   ],
   "source": [
    "model = AutoModelForSeq2SeqLM.from_pretrained(\"../../mt5-small\")\n",
    "tokenizer = AutoTokenizer.from_pretrained(\"../../mt5-small\")"
   ]
  },
  {
   "cell_type": "markdown",
   "id": "c3caecb2",
   "metadata": {},
   "source": [
    "#### Preparing the data for fine-tuning"
   ]
  },
  {
   "cell_type": "markdown",
   "id": "e97ac77c",
   "metadata": {},
   "source": [
    "Before proceeding, let's first check the length of the encoded samples."
   ]
  },
  {
   "cell_type": "code",
   "execution_count": 5,
   "id": "16107330",
   "metadata": {},
   "outputs": [
    {
     "data": {
      "image/png": "[encoded data removed]",
      "text/plain": [
       "<Figure size 640x480 with 1 Axes>"
      ]
     },
     "metadata": {},
     "output_type": "display_data"
    }
   ],
   "source": [
    "encoded_inputs_length = [] # store the length of the encoded samples\n",
    "\n",
    "for sample in train_dataset:\n",
    "    input_ids = tokenizer.encode(sample['ocr'], return_tensors='pt')\n",
    "    encoded_inputs_length.append(len(input_ids[0]))\n",
    "\n",
    "encoded_inputs_length.sort(reverse=True)\n",
    "\n",
    "sns.histplot(encoded_inputs_length, bins=10, discrete=True)\n",
    "\n",
    "plt.xlim(0, 300)\n",
    "plt.xlabel('input_ids length')\n",
    "plt.ylabel('Frequency')\n",
    "plt.title('Histogram of the lengths of the encoded inputs')\n",
    "\n",
    "plt.show()"
   ]
  },
  {
   "cell_type": "markdown",
   "id": "6a6f392d",
   "metadata": {},
   "source": [
    "The predefined input length of mt5 is 20 tokens. But as we can see from the histogram above, the tokenized samples are longer than just 20 tokens. Therefore, in order to not lose too much data, instead of just truncating the samples, we create chunks of 20 tokens. As an example, the two strings:\n",
    "\n",
    "ocr:  \n",
    "   \\ \n",
    "\n",
    "iiiastri \n",
    "Si  avviticchiò  colle  braccia,  stretto  stretto,  al  collo  \n",
    "della  sua  piamata  cavalcatura.\n",
    "\n",
    "clean:  \n",
    "Si avviticchiò colle braccia, stretto stretto, al collo della sua piumata cavalcatura.\n",
    "\n",
    "become:\n",
    "```\n",
    "['▁', '\\\\', '▁iii', 'a', 'stri', '▁Si', '▁avvi', 'tic', 'chi', 'ò', '▁colle', '▁', 'braccia', ',', '▁stret', 'to', '▁stret', 'to', ',', '</s>']\n",
    "['▁Si', '▁avvi', 'tic', 'chi', 'ò', '▁colle', '▁', 'braccia', ',', '▁stret', 'to', '▁stret', 'to', ',', '▁al', '▁collo', '▁', 'della', '▁sua', '</s>']\n",
    "\n",
    "['▁al', '▁collo', '▁', 'della', '▁sua', '▁pi', 'amata', '▁caval', 'c', 'atura', '.', '</s>', '<pad>', '<pad>', '<pad>', '<pad>', '<pad>', '<pad>', '<pad>', '<pad>']\n",
    "['▁piu', 'mata', '▁caval', 'c', 'atura', '.', '</s>', '<pad>', '<pad>', '<pad>', '<pad>', '<pad>', '<pad>', '<pad>', '<pad>', '<pad>', '<pad>', '<pad>', '<pad>', '<pad>']\n",
    "```\n",
    "\n",
    "NOTE: To avoid having examples that are too short (in some extreme cases composed by just the EOS token), we truncate the sentence when \n",
    "the residual length of the sample is less than 5 tokens.\n"
   ]
  },
  {
   "cell_type": "code",
   "execution_count": null,
   "id": "646b7c3f",
   "metadata": {},
   "outputs": [
    {
     "data": {
      "text/plain": [
       "' \\nocr: 20\\n tensor([   333,    298, 100835,    712,    277,  28116,    261,    259,    265,\\n           259,   4166,    603,    318,    264,    259,  16138,    393,    400,\\n           260,      1])\\nclean: 17\\n tensor([   298, 100835,    712,    293,  28116,    261,    259,    265,    259,\\n          4166,    421,  26257,    393,    400,    260,      1,      1])\\nocr: 20\\n tensor([1, 0, 0, 0, 0, 0, 0, 0, 0, 0, 0, 0, 0, 0, 0, 0, 0, 0, 0, 0])\\nclean: 20\\n tensor([0, 0, 0, 0, 0, 0, 0, 0, 0, 0, 0, 0, 0, 0, 0, 0, 0, 0, 0, 0])\\n\\n'"
      ]
     },
     "execution_count": 6,
     "metadata": {},
     "output_type": "execute_result"
    }
   ],
   "source": [
    "def pad_function(ocr_chunk, clean_chunk):\n",
    "    ''' \n",
    "    Function that takes as input the ocr_chunk and clean_chunk, \n",
    "    adds the EOS token (if needed) and pads the samples (if needed) \n",
    "    to have the correct length\n",
    "    '''\n",
    "    if len(ocr_chunk) < 20:\n",
    "        # if the length of the tensor is less than 20, we pad it\n",
    "        while len(ocr_chunk) < 20:\n",
    "            ocr_chunk = torch.cat((ocr_chunk, torch.tensor([0]))) \n",
    "    else:\n",
    "        # keep only the first 20 tokens\n",
    "        ocr_chunk = ocr_chunk[:20]\n",
    "        if ocr_chunk[-1].item() != 1:       # if needed, add </s> (EOS) token\n",
    "            ocr_chunk[-1] = 1\n",
    "\n",
    "    if len(clean_chunk) < 20:\n",
    "        while len(clean_chunk) < 20:\n",
    "            clean_chunk = torch.cat((clean_chunk, torch.tensor([0]))) \n",
    "    else:\n",
    "        # keep only the first 20 tokens\n",
    "        clean_chunk = clean_chunk[:20]\n",
    "        if clean_chunk[-1].item() != 1:\n",
    "            clean_chunk[-1] = 1\n",
    "\n",
    "    return (ocr_chunk, clean_chunk)\n",
    "        "
   ]
  },
  {
   "cell_type": "code",
   "execution_count": 7,
   "id": "b8db4e5b",
   "metadata": {},
   "outputs": [],
   "source": [
    "def create_chunks(ocr_tokens, clean_tokens):\n",
    "    ''' \n",
    "    Function that creates chunks of 20 tokens\n",
    "    '''\n",
    "    pairs = []\n",
    "    max_len = max(len(ocr_tokens), len(clean_tokens))\n",
    "    for i in range(0, max_len, 19): # 19 beacuse we need to reserve one token for the\n",
    "                                    # end of sentence (</s>) token\n",
    "        \n",
    "        if i == 0:\n",
    "            if min(len(ocr_tokens), len(clean_tokens)) < 25:         \n",
    "                # when one of the two samples is shorter than 20 tokens, \n",
    "                # we make sure that the EOS token is present in both of them \n",
    "                # and pad (if needed) the samples to have the correct length\n",
    "                pair = pad_function(ocr_tokens, clean_tokens)\n",
    "                pairs.append(pair)\n",
    "\n",
    "                return pairs\n",
    "\n",
    "            else:\n",
    "                # otherwise, we take the next 19 tokens and add the EOS token\n",
    "                ocr_chunk = ocr_tokens[:19]\n",
    "                clean_chunk = clean_tokens[:19]\n",
    "\n",
    "                # Add EOS token\n",
    "                ocr_chunk = torch.cat((ocr_chunk, torch.tensor([1])))\n",
    "                clean_chunk = torch.cat((clean_chunk, torch.tensor([1])))\n",
    "\n",
    "        else:\n",
    "            \n",
    "            if min(len(ocr_tokens[i:]), len(clean_tokens[i:])) < 25:\n",
    "                ocr_chunk = ocr_tokens[i:]\n",
    "                clean_chunk = clean_tokens[i:]\n",
    "\n",
    "                pair = pad_function(ocr_chunk, clean_chunk)\n",
    "                pairs.append(pair)\n",
    "\n",
    "                return pairs\n",
    "            \n",
    "            else:\n",
    "                ocr_chunk = ocr_tokens[i:i+19]\n",
    "                clean_chunk = clean_tokens[i:i+19]\n",
    "\n",
    "                # Add EOS token\n",
    "                ocr_chunk = torch.cat((ocr_chunk, torch.tensor([1])))\n",
    "                clean_chunk = torch.cat((clean_chunk, torch.tensor([1])))\n",
    "\n",
    "\n",
    "        pairs.append((ocr_chunk, clean_chunk))\n",
    "        \n",
    "    return pairs\n",
    "    "
   ]
  },
  {
   "cell_type": "code",
   "execution_count": 22,
   "id": "36adc160",
   "metadata": {},
   "outputs": [
    {
     "name": "stdout",
     "output_type": "stream",
     "text": [
      " \\ \n",
      "\n",
      "iiiastri \n",
      "Si  avviticchiò  colle  braccia,  stretto  stretto,  al  collo \n",
      "della  sua  piamata  cavalcatura.\n",
      "Si avviticchiò colle braccia, stretto stretto, al collo della sua piumata cavalcatura.\n"
     ]
    }
   ],
   "source": [
    "print(train_dataset[12]['ocr'])\n",
    "print(train_dataset[12]['clean'])"
   ]
  },
  {
   "cell_type": "code",
   "execution_count": 25,
   "id": "b8d14c11",
   "metadata": {},
   "outputs": [],
   "source": [
    "ocr_tokens = tokenizer.encode(train_dataset[12]['ocr'], return_tensors='pt')[0]\n",
    "clean_tokens = tokenizer.encode(train_dataset[12]['clean'], return_tensors='pt')[0]\n",
    "pairs = create_chunks(ocr_tokens, clean_tokens)"
   ]
  },
  {
   "cell_type": "code",
   "execution_count": 26,
   "id": "56469dcc",
   "metadata": {},
   "outputs": [
    {
     "name": "stdout",
     "output_type": "stream",
     "text": [
      "ocr: 20\n",
      " tensor([   259,    540,  90965,    262,  19629,   1124,  81102,   6862,   2535,\n",
      "          1133,  42944,    259, 144821,    261,  52346,    476,  52346,    476,\n",
      "           261,      1])\n",
      "clean: 20\n",
      " tensor([  1124,  81102,   6862,   2535,   1133,  42944,    259, 144821,    261,\n",
      "         52346,    476,  52346,    476,    261,    440,  88249,    259,   1391,\n",
      "          2379,      1])\n",
      "ocr: 20\n",
      " tensor([   440,  88249,    259,   1391,   2379,   1952,  50085, 101253,    297,\n",
      "         17235,    260,      1,      0,      0,      0,      0,      0,      0,\n",
      "             0,      0])\n",
      "clean: 20\n",
      " tensor([ 99614,   6666, 101253,    297,  17235,    260,      1,      0,      0,\n",
      "             0,      0,      0,      0,      0,      0,      0,      0,      0,\n",
      "             0,      0])\n"
     ]
    }
   ],
   "source": [
    "for pair in pairs:\n",
    "    print(f'ocr: {len(pair[0])}\\n {pair[0]}')\n",
    "    print(f'clean: {len(pair[1])}\\n {pair[1]}')"
   ]
  },
  {
   "cell_type": "code",
   "execution_count": 27,
   "id": "a9432a98",
   "metadata": {},
   "outputs": [
    {
     "name": "stdout",
     "output_type": "stream",
     "text": [
      "['▁', '\\\\', '▁iii', 'a', 'stri', '▁Si', '▁avvi', 'tic', 'chi', 'ò', '▁colle', '▁', 'braccia', ',', '▁stret', 'to', '▁stret', 'to', ',', '</s>']\n",
      "['▁Si', '▁avvi', 'tic', 'chi', 'ò', '▁colle', '▁', 'braccia', ',', '▁stret', 'to', '▁stret', 'to', ',', '▁al', '▁collo', '▁', 'della', '▁sua', '</s>']\n",
      "['▁al', '▁collo', '▁', 'della', '▁sua', '▁pi', 'amata', '▁caval', 'c', 'atura', '.', '</s>', '<pad>', '<pad>', '<pad>', '<pad>', '<pad>', '<pad>', '<pad>', '<pad>']\n",
      "['▁piu', 'mata', '▁caval', 'c', 'atura', '.', '</s>', '<pad>', '<pad>', '<pad>', '<pad>', '<pad>', '<pad>', '<pad>', '<pad>', '<pad>', '<pad>', '<pad>', '<pad>', '<pad>']\n"
     ]
    }
   ],
   "source": [
    "for pair in pairs:\n",
    "    ocr_tokens = tokenizer.convert_ids_to_tokens(pair[0])\n",
    "    clean_tokens = tokenizer.convert_ids_to_tokens(pair[1])\n",
    "    print(ocr_tokens)\n",
    "    print(clean_tokens)"
   ]
  },
  {
   "cell_type": "code",
   "execution_count": 12,
   "id": "a2f97d91",
   "metadata": {},
   "outputs": [],
   "source": [
    "def encode_sample(sample, tokenizer):\n",
    "    ''' \n",
    "    Function that tokenizes each sample, and passes them to 'create_chunks' function, \n",
    "    that creates chunks of 20 tokens\n",
    "\n",
    "    - sample: ['ocr', 'clean']\n",
    "    '''\n",
    "    ocr = sample['ocr']\n",
    "    clean = sample['clean']\n",
    "\n",
    "    if ocr is None or clean is None:\n",
    "        return None \n",
    "    \n",
    "    input_token_ids = tokenizer.encode(ocr, return_tensors='pt')[0]\n",
    "    target_token_ids = tokenizer.encode(clean, return_tensors='pt')[0]\n",
    "\n",
    "    chunks = create_chunks(input_token_ids, target_token_ids)\n",
    "\n",
    "    return chunks"
   ]
  },
  {
   "cell_type": "code",
   "execution_count": 13,
   "id": "efc65612",
   "metadata": {},
   "outputs": [],
   "source": [
    "def tokenize_dataset(dataset, tokenizer):\n",
    "    tokenized_dataset = {}\n",
    "    tokenized_dataset['ocr'] = []\n",
    "    tokenized_dataset['clean'] = []\n",
    "\n",
    "    for sample in dataset:\n",
    "        chunks = encode_sample(sample, tokenizer)\n",
    "        for pair in chunks:\n",
    "            if pair[0] == None or pair[1] == None:\n",
    "                continue\n",
    "\n",
    "            tokenized_dataset['ocr'].append(pair[0])\n",
    "            tokenized_dataset['clean'].append(pair[1])\n",
    "\n",
    "    return tokenized_dataset\n"
   ]
  },
  {
   "cell_type": "code",
   "execution_count": 14,
   "id": "69ef56e8",
   "metadata": {},
   "outputs": [],
   "source": [
    "tokenized_train_data = tokenize_dataset(train_dataset, tokenizer)\n",
    "tokenized_val_data = tokenize_dataset(eval_dataset, tokenizer)"
   ]
  },
  {
   "cell_type": "code",
   "execution_count": 15,
   "id": "beb1fb42",
   "metadata": {},
   "outputs": [
    {
     "name": "stdout",
     "output_type": "stream",
     "text": [
      "All fine\n"
     ]
    }
   ],
   "source": [
    "# Sanity check, verify that the produced chuncks have all size 20\n",
    "dataset_size = len(tokenized_train_data['ocr'])\n",
    "for i in range(dataset_size):\n",
    "    if tokenized_train_data['ocr'][i].shape != torch.Size([20]) or tokenized_train_data['clean'][i].shape != torch.Size([20]):\n",
    "        print(i)\n",
    "        print(tokenized_train_data['ocr'][i])\n",
    "        print(tokenized_train_data['clean'][i])\n",
    "        print('\\n\\n')\n",
    "print(\"All fine\")"
   ]
  },
  {
   "cell_type": "markdown",
   "id": "51eccb6a",
   "metadata": {},
   "source": [
    "Let's see what a sample looks like."
   ]
  },
  {
   "cell_type": "code",
   "execution_count": 16,
   "id": "e3773ebb",
   "metadata": {},
   "outputs": [
    {
     "name": "stdout",
     "output_type": "stream",
     "text": [
      "tensor([  661,   415, 12270,  1135,  5916, 20665, 65626,   335, 12880,   421,\n",
      "        46669,   261,   259,   265, 36072,   262,   264,   259, 65626,     1])\n",
      "tensor([  661,   415, 12270,  1135,  5916, 20665, 65626,   335, 12880,   421,\n",
      "        46669,   261,   259,   265, 36072,  9694,   268,   259,  7364,     1])\n"
     ]
    }
   ],
   "source": [
    "print(tokenized_train_data['ocr'][0])\n",
    "print(tokenized_train_data['clean'][0])"
   ]
  },
  {
   "cell_type": "code",
   "execution_count": 17,
   "id": "c3df2528",
   "metadata": {},
   "outputs": [],
   "source": [
    "# Let's now take a general sample and retrieve the original text\n",
    "ocr = tokenized_train_data['ocr'][1522]\n",
    "clean = tokenized_train_data['clean'][1522]"
   ]
  },
  {
   "cell_type": "code",
   "execution_count": 18,
   "id": "25a77ec0",
   "metadata": {},
   "outputs": [
    {
     "name": "stdout",
     "output_type": "stream",
     "text": [
      "Pinoccliio, come potete fignrarvelo, si détte a\n",
      "Pinocchio, come potete figurarvelo, si dètte a piangere,\n"
     ]
    }
   ],
   "source": [
    "ocr_text = tokenizer.decode(ocr, skip_special_tokens=True)\n",
    "clean_text = tokenizer.decode(clean, skip_special_tokens=True)\n",
    "print(ocr_text)\n",
    "print(clean_text)"
   ]
  },
  {
   "cell_type": "markdown",
   "id": "53b224ba",
   "metadata": {},
   "source": [
    "**DATA GENERATOR**\n",
    "Now we build a data generator that creates the batches for training at each epoch."
   ]
  },
  {
   "cell_type": "code",
   "execution_count": 20,
   "id": "da197669",
   "metadata": {},
   "outputs": [],
   "source": [
    "random.seed(42)"
   ]
  },
  {
   "cell_type": "code",
   "execution_count": null,
   "id": "33bf5860",
   "metadata": {},
   "outputs": [],
   "source": [
    "''' \n",
    "function to create a generator object to generate batches of data\n",
    "'''\n",
    "def data_generator(dataset, batch_size, shuffle=False):\n",
    "    ocr_samples = dataset['ocr']\n",
    "    clean_samples = dataset['clean']\n",
    "\n",
    "    # During training we shuffle the dataset at each epoch\n",
    "    #if shuffle:\n",
    "    #    random.shuffle(ocr_samples)    # YOU CAN'T SHUFFLE LIKE THIS\n",
    "    #    random.shuffle(clean_samples)\n",
    "        \n",
    "    for i in range(0, len(ocr_samples), batch_size):\n",
    "        \n",
    "        inputs = ocr_samples[i: i+batch_size]\n",
    "        targets = clean_samples[i: i+batch_size]\n",
    "        \n",
    "        batch_input_ids = torch.stack(inputs)\n",
    "        batch_target_ids = torch.stack(targets)\n",
    "\n",
    "        yield batch_input_ids, batch_target_ids\n"
   ]
  },
  {
   "cell_type": "code",
   "execution_count": 22,
   "id": "d9474678",
   "metadata": {},
   "outputs": [],
   "source": [
    "train_data_gen = data_generator(tokenized_train_data, batch_size=8)"
   ]
  },
  {
   "cell_type": "code",
   "execution_count": 23,
   "id": "98e750a4",
   "metadata": {},
   "outputs": [
    {
     "name": "stdout",
     "output_type": "stream",
     "text": [
      "3700\n"
     ]
    }
   ],
   "source": [
    "print(len(tokenized_train_data['clean']))"
   ]
  },
  {
   "cell_type": "code",
   "execution_count": 24,
   "id": "36b4066b",
   "metadata": {},
   "outputs": [
    {
     "name": "stdout",
     "output_type": "stream",
     "text": [
      "397\n"
     ]
    }
   ],
   "source": [
    "print(len(tokenized_val_data['clean']))"
   ]
  },
  {
   "cell_type": "code",
   "execution_count": 47,
   "id": "9232d352",
   "metadata": {},
   "outputs": [
    {
     "name": "stdout",
     "output_type": "stream",
     "text": [
      "Input shape: torch.Size([8, 20])\n",
      "Output shape: torch.Size([8, 20])\n"
     ]
    }
   ],
   "source": [
    "data_batch = next(train_data_gen)\n",
    "#print('data_batch:',data_batch[0])\n",
    "print('Input shape:', data_batch[0].shape)\n",
    "print('Output shape:', data_batch[1].shape)"
   ]
  },
  {
   "cell_type": "code",
   "execution_count": 48,
   "id": "b766d614",
   "metadata": {},
   "outputs": [
    {
     "name": "stdout",
     "output_type": "stream",
     "text": [
      "ocr:corsa, entrò nell'acqua anche lui., clean:viaggio per ritornarsene a casa sua.\n",
      "ocr:padella d'olio, che mandava un odorino di moccolaia, da, clean:Hai voluto fare a modo tuo, ma te ne pentirai!\n",
      "ocr:Allora diventò pensieroso, e, dimenticando le regole del Galat, clean:— e sarei volentieri tornato alla spiaggia: ma come fare?\n",
      "ocr:Dormi dunque tranquillamen- te, e stai sicuro che prima di partire, clean:Uno di quei monelli agguantò quel volume, e presa di mira la testa\n",
      "ocr:eri di giunco : e coi quattrini che ne ricavava, prov, clean:ò un branco dei soliti compagni, che andandogli incontro, gli\n",
      "ocr:essere un granchio di mare., clean:— Chi è?— disse una vocina di dentro.\n",
      "ocr:— Anche tuo padre! — ìsOj no, no, il mio povero, clean:, via, e via, come andrebbe una palla di fucile.\n",
      "ocr:XXIV. Pinocchio arriva all'isola delle « Api industriose » e ri, clean:E per questo io lo volli ammaestrare nelballo nonchè nei relativi\n"
     ]
    }
   ],
   "source": [
    "ocr_samples = data_batch[0]\n",
    "clean_samples = data_batch[1]\n",
    "\n",
    "for i in range(len(ocr_samples)):\n",
    "    ocr = ocr_samples[i]\n",
    "    clean = clean_samples[i]\n",
    "    ocr_text = tokenizer.decode(ocr, skip_special_tokens=True)\n",
    "    clean_text = tokenizer.decode(clean, skip_special_tokens=True)\n",
    "    print(f'ocr:{ocr_text}, clean:{clean_text}')"
   ]
  },
  {
   "cell_type": "markdown",
   "id": "e46ece0c",
   "metadata": {},
   "source": [
    "### Dataset Preparation (with DataLoader from pytorch)"
   ]
  },
  {
   "cell_type": "code",
   "execution_count": 19,
   "id": "15e40d06",
   "metadata": {},
   "outputs": [],
   "source": [
    "class CustomDataset(data.Dataset):\n",
    "\n",
    "    def __init__(self, dataset):\n",
    "        super().__init__()\n",
    "\n",
    "        ''' \n",
    "        - dataset: Python dictionary of the form:\n",
    "                   {'ocr': [list of ocr samples], 'clean': [list of the corresponding clean samples]}\n",
    "        '''\n",
    "        \n",
    "        self.data = []\n",
    "        self.num_samples = len(dataset['ocr'])\n",
    "        self.ocr_samples = dataset['ocr']\n",
    "        self.clean_samples = dataset['clean']\n",
    "\n",
    "        # training data will be a list of dictionaries\n",
    "        # each dictionary contains two keys: 'ocr' and 'clean' \n",
    "\n",
    "        for i in range(self.num_samples):\n",
    "            ocr_sample = self.ocr_samples[i]\n",
    "            clean_sample = self.clean_samples[i]\n",
    "\n",
    "            sample = {'ocr': ocr_sample, 'clean': clean_sample}\n",
    "            self.data.append(sample)\n",
    "\n",
    "    def __len__(self):\n",
    "        return self.num_samples\n",
    "    \n",
    "    def __getitem__(self, index):\n",
    "        return self.data[index]\n",
    "    "
   ]
  },
  {
   "cell_type": "code",
   "execution_count": 20,
   "id": "d0558065",
   "metadata": {},
   "outputs": [],
   "source": [
    "training_samples = CustomDataset(dataset=tokenized_train_data)\n",
    "val_samples = CustomDataset(dataset=tokenized_val_data)  "
   ]
  },
  {
   "cell_type": "markdown",
   "id": "07ca09df",
   "metadata": {},
   "source": [
    "### Training "
   ]
  },
  {
   "cell_type": "code",
   "execution_count": 21,
   "id": "8ab6c868",
   "metadata": {},
   "outputs": [],
   "source": [
    "# training hyperparameters\n",
    "n_epochs = 2\n",
    "train_batch_size = 8\n",
    "eval_batch_size = 4\n",
    "print_freq = 25\n",
    "lr = 5e-4\n",
    "len_dataset = len(training_samples)\n",
    "n_batches = int(np.ceil(len_dataset / train_batch_size))\n",
    "total_steps = n_epochs * n_batches \n",
    "n_warmup_steps = int(total_steps * 0.01)"
   ]
  },
  {
   "cell_type": "code",
   "execution_count": 22,
   "id": "4346ad49",
   "metadata": {},
   "outputs": [
    {
     "name": "stdout",
     "output_type": "stream",
     "text": [
      "Total Steps: 918\n",
      "Warmup Steps: 9\n"
     ]
    }
   ],
   "source": [
    "print(f'Total Steps: {total_steps}')\n",
    "print(f'Warmup Steps: {n_warmup_steps}')"
   ]
  },
  {
   "cell_type": "code",
   "execution_count": 23,
   "id": "a4859f3a",
   "metadata": {},
   "outputs": [],
   "source": [
    "# Optimizer\n",
    "optimizer = AdamW(model.parameters(), lr=lr)\n",
    "# We define a scheduler that will take care of adapting the learning rate\n",
    "scheduler = get_linear_schedule_with_warmup(optimizer, n_warmup_steps, total_steps)"
   ]
  },
  {
   "cell_type": "markdown",
   "id": "63d53c8a",
   "metadata": {},
   "source": [
    "#### The Trainer class"
   ]
  },
  {
   "cell_type": "code",
   "execution_count": 24,
   "id": "c4329ed8",
   "metadata": {},
   "outputs": [],
   "source": [
    "class Trainer():\n",
    "\n",
    "    def __init__(self, model, optimizer, scheduler, num_epochs):\n",
    "        self.model = model \n",
    "        self.optimizer = optimizer\n",
    "        self.scheduler = scheduler \n",
    "        self.num_epochs = num_epochs\n",
    "\n",
    "    def train(self, train_dataset, val_dataset):\n",
    "\n",
    "        train_loss = []\n",
    "        val_loss = []\n",
    "        for epoch_idx in range(n_epochs):   \n",
    "\n",
    "            for batch_idx, sample in tqdm(enumerate(train_dataset), total=n_batches):\n",
    "\n",
    "                input_batch = sample['ocr']\n",
    "                label_batch = sample['clean']\n",
    "\n",
    "                # zero the gradients\n",
    "                optimizer.zero_grad()\n",
    "\n",
    "                # forward pass\n",
    "                model_out = model.forward(\n",
    "                    input_ids = input_batch, \n",
    "                    labels = label_batch    # not strictly necessarily, but if we do it,\n",
    "                                            # it computes the loss for us\n",
    "                )\n",
    "\n",
    "                loss = model_out.loss\n",
    "                train_loss.append(loss.item())\n",
    "\n",
    "                # compute the gradients\n",
    "                loss.backward()\n",
    "\n",
    "                # update the weights\n",
    "                optimizer.step()\n",
    "\n",
    "                # The scheduler adaptes the leraning rate\n",
    "                scheduler.step()\n",
    "\n",
    "                if (batch_idx + 1) % print_freq == 0:\n",
    "                    #average loss for the last 'print_freq' batches\n",
    "                    avg_loss = np.mean(train_loss[-print_freq:])\n",
    "                    eval_loss = self.eval_model(val_dataset)\n",
    "                    val_loss.append(eval_loss)\n",
    "                    print('Epoch: {} | Step: {} | Avg. train loss: {:.3f} | Avg. val loss: {:.3f} | lr: {}'.format(\n",
    "                        epoch_idx+1, batch_idx+1, avg_loss, eval_loss, scheduler.get_last_lr()[0]))\n",
    "                    \n",
    "\n",
    "        return {\n",
    "            \"train_loss\": train_loss, \n",
    "            \"val_loss\": val_loss\n",
    "        }\n",
    "    \n",
    "\n",
    "    def eval_model(self, validation_dataset):\n",
    "        eval_losses = []\n",
    "\n",
    "        with torch.no_grad():\n",
    "            for sample in validation_dataset:\n",
    "                input_batch = sample['ocr']\n",
    "                label_batch = sample['clean']\n",
    "\n",
    "                # forward pass\n",
    "                model_out = model.forward(input_ids=input_batch, \n",
    "                                        labels=label_batch)     # As before we pass also the labels, so it \n",
    "                                                                # computes for us also the loss\n",
    "            \n",
    "                eval_losses.append(model_out.loss.item())\n",
    "\n",
    "        \n",
    "        return np.mean(eval_losses)"
   ]
  },
  {
   "cell_type": "markdown",
   "id": "85786c5d",
   "metadata": {},
   "source": [
    "The last thing to do, before training, is to load the data using the `DataLoader` module."
   ]
  },
  {
   "cell_type": "code",
   "execution_count": 25,
   "id": "7146d5e9",
   "metadata": {},
   "outputs": [],
   "source": [
    "training_dataset = DataLoader(training_samples, batch_size=train_batch_size, shuffle=True)\n",
    "validation_dataset = DataLoader(val_samples, batch_size=eval_batch_size)"
   ]
  },
  {
   "cell_type": "code",
   "execution_count": 26,
   "id": "05460c0b",
   "metadata": {},
   "outputs": [],
   "source": [
    "trainer = Trainer(model=model,\n",
    "                  optimizer=optimizer, \n",
    "                  num_epochs=n_epochs, \n",
    "                  scheduler=scheduler)"
   ]
  },
  {
   "cell_type": "code",
   "execution_count": 27,
   "id": "4b7238fe",
   "metadata": {},
   "outputs": [
    {
     "data": {
      "application/vnd.jupyter.widget-view+json": {
       "model_id": "20f9e7978a91495eb5c60670032db67a",
       "version_major": 2,
       "version_minor": 0
      },
      "text/plain": [
       "  0%|          | 0/459 [00:00<?, ?it/s]"
      ]
     },
     "metadata": {},
     "output_type": "display_data"
    },
    {
     "name": "stderr",
     "output_type": "stream",
     "text": [
      "Passing a tuple of `past_key_values` is deprecated and will be removed in Transformers v4.48.0. You should pass an instance of `EncoderDecoderCache` instead, e.g. `past_key_values=EncoderDecoderCache.from_legacy_cache(past_key_values)`.\n"
     ]
    },
    {
     "name": "stdout",
     "output_type": "stream",
     "text": [
      "Epoch: 1 | Step: 25 | Avg. train loss: 15.381 | Avg. val loss: 6.979 | lr: 0.0004911991199119912\n",
      "Epoch: 1 | Step: 50 | Avg. train loss: 5.981 | Avg. val loss: 4.766 | lr: 0.0004774477447744774\n",
      "Epoch: 1 | Step: 75 | Avg. train loss: 4.103 | Avg. val loss: 3.485 | lr: 0.0004636963696369637\n",
      "Epoch: 1 | Step: 100 | Avg. train loss: 3.201 | Avg. val loss: 2.812 | lr: 0.00044994499449945\n",
      "Epoch: 1 | Step: 125 | Avg. train loss: 2.705 | Avg. val loss: 2.251 | lr: 0.00043619361936193617\n",
      "Epoch: 1 | Step: 150 | Avg. train loss: 2.075 | Avg. val loss: 1.826 | lr: 0.00042244224422442246\n",
      "Epoch: 1 | Step: 175 | Avg. train loss: 1.777 | Avg. val loss: 1.462 | lr: 0.00040869086908690874\n",
      "Epoch: 1 | Step: 200 | Avg. train loss: 1.489 | Avg. val loss: 1.295 | lr: 0.0003949394939493949\n",
      "Epoch: 1 | Step: 225 | Avg. train loss: 1.213 | Avg. val loss: 1.222 | lr: 0.0003811881188118812\n",
      "Epoch: 1 | Step: 250 | Avg. train loss: 1.253 | Avg. val loss: 1.167 | lr: 0.0003674367436743675\n",
      "Epoch: 1 | Step: 275 | Avg. train loss: 1.277 | Avg. val loss: 1.123 | lr: 0.00035368536853685366\n",
      "Epoch: 1 | Step: 300 | Avg. train loss: 1.105 | Avg. val loss: 1.080 | lr: 0.00033993399339933995\n",
      "Epoch: 1 | Step: 325 | Avg. train loss: 1.055 | Avg. val loss: 1.052 | lr: 0.00032618261826182623\n",
      "Epoch: 1 | Step: 350 | Avg. train loss: 1.024 | Avg. val loss: 1.028 | lr: 0.0003124312431243124\n",
      "Epoch: 1 | Step: 375 | Avg. train loss: 1.074 | Avg. val loss: 1.012 | lr: 0.0002986798679867987\n",
      "Epoch: 1 | Step: 400 | Avg. train loss: 1.051 | Avg. val loss: 0.992 | lr: 0.000284928492849285\n",
      "Epoch: 1 | Step: 425 | Avg. train loss: 1.041 | Avg. val loss: 0.968 | lr: 0.00027117711771177115\n",
      "Epoch: 1 | Step: 450 | Avg. train loss: 1.048 | Avg. val loss: 0.956 | lr: 0.00025742574257425744\n"
     ]
    },
    {
     "data": {
      "application/vnd.jupyter.widget-view+json": {
       "model_id": "0b35e69e64bc49d0a0f505f695cdae9d",
       "version_major": 2,
       "version_minor": 0
      },
      "text/plain": [
       "  0%|          | 0/459 [00:00<?, ?it/s]"
      ]
     },
     "metadata": {},
     "output_type": "display_data"
    },
    {
     "name": "stdout",
     "output_type": "stream",
     "text": [
      "Epoch: 2 | Step: 25 | Avg. train loss: 0.890 | Avg. val loss: 0.943 | lr: 0.0002387238723872387\n",
      "Epoch: 2 | Step: 50 | Avg. train loss: 0.873 | Avg. val loss: 0.929 | lr: 0.000224972497249725\n",
      "Epoch: 2 | Step: 75 | Avg. train loss: 0.806 | Avg. val loss: 0.924 | lr: 0.00021122112211221123\n",
      "Epoch: 2 | Step: 100 | Avg. train loss: 0.780 | Avg. val loss: 0.916 | lr: 0.00019746974697469746\n",
      "Epoch: 2 | Step: 125 | Avg. train loss: 0.800 | Avg. val loss: 0.912 | lr: 0.00018371837183718374\n",
      "Epoch: 2 | Step: 150 | Avg. train loss: 0.743 | Avg. val loss: 0.907 | lr: 0.00016996699669966997\n",
      "Epoch: 2 | Step: 175 | Avg. train loss: 0.708 | Avg. val loss: 0.903 | lr: 0.0001562156215621562\n",
      "Epoch: 2 | Step: 200 | Avg. train loss: 0.838 | Avg. val loss: 0.900 | lr: 0.0001424642464246425\n",
      "Epoch: 2 | Step: 225 | Avg. train loss: 0.849 | Avg. val loss: 0.897 | lr: 0.00012871287128712872\n",
      "Epoch: 2 | Step: 250 | Avg. train loss: 0.851 | Avg. val loss: 0.892 | lr: 0.00011496149614961496\n",
      "Epoch: 2 | Step: 275 | Avg. train loss: 0.789 | Avg. val loss: 0.886 | lr: 0.0001012101210121012\n",
      "Epoch: 2 | Step: 300 | Avg. train loss: 0.866 | Avg. val loss: 0.887 | lr: 8.745874587458746e-05\n",
      "Epoch: 2 | Step: 325 | Avg. train loss: 0.726 | Avg. val loss: 0.882 | lr: 7.370737073707371e-05\n",
      "Epoch: 2 | Step: 350 | Avg. train loss: 0.759 | Avg. val loss: 0.878 | lr: 5.995599559955996e-05\n",
      "Epoch: 2 | Step: 375 | Avg. train loss: 0.739 | Avg. val loss: 0.876 | lr: 4.62046204620462e-05\n",
      "Epoch: 2 | Step: 400 | Avg. train loss: 0.648 | Avg. val loss: 0.876 | lr: 3.2453245324532453e-05\n",
      "Epoch: 2 | Step: 425 | Avg. train loss: 0.850 | Avg. val loss: 0.874 | lr: 1.87018701870187e-05\n",
      "Epoch: 2 | Step: 450 | Avg. train loss: 0.731 | Avg. val loss: 0.873 | lr: 4.950495049504951e-06\n"
     ]
    }
   ],
   "source": [
    "history = trainer.train(training_dataset, validation_dataset)"
   ]
  },
  {
   "cell_type": "code",
   "execution_count": null,
   "id": "c8544ebd",
   "metadata": {},
   "outputs": [
    {
     "data": {
      "text/plain": [
       "('../model/fine-tuned-models/tokenizer_config.json',\n",
       " '../model/fine-tuned-models/special_tokens_map.json',\n",
       " '../model/fine-tuned-models/spiece.model',\n",
       " '../model/fine-tuned-models/added_tokens.json',\n",
       " '../model/fine-tuned-models/tokenizer.json')"
      ]
     },
     "execution_count": 49,
     "metadata": {},
     "output_type": "execute_result"
    }
   ],
   "source": [
    "# Save the model and tokenizer\n",
    "model.save_pretrained(\"../model/fine-tuned-models\")\n",
    "tokenizer.save_pretrained(\"../model/fine-tuned-models\")"
   ]
  },
  {
   "cell_type": "markdown",
   "id": "dedca60b",
   "metadata": {},
   "source": [
    "Let's see what a batch looks like"
   ]
  },
  {
   "cell_type": "code",
   "execution_count": 36,
   "id": "b1310cce",
   "metadata": {},
   "outputs": [
    {
     "name": "stdout",
     "output_type": "stream",
     "text": [
      "{'ocr': tensor([[   259,  70432,    277,  42605,    734,    335,    277,  20103,  11341,\n",
      "           1319,    261,    259,   2651,    421,   2852,    859,    264,    393,\n",
      "         210436,      1],\n",
      "        [   277,  15046,    261,   8353,   2519,    265,  83665,    834,    335,\n",
      "            416,    264,    350, 130600,    260,      1,      0,      0,      0,\n",
      "              0,      0],\n",
      "        [   259, 140814,    261,    259,    265,    935,    707,  38323,   1133,\n",
      "            267,  60322,   1133,    573,   3302,    262,   9682,    261,    259,\n",
      "            265,      1],\n",
      "        [   259,    309,  10259,    573,  11341,   1319,    261,    734,    935,\n",
      "           3396,   5475,    421,   2852,    260,      1,      0,      0,      0,\n",
      "              0,      0],\n",
      "        [   262,  29866,    277,   8065,    259,    266,    268,    259,   2634,\n",
      "          12880,  19224,    259,  48335,    268,    261, 117209,   1856,    259,\n",
      "            265,      1],\n",
      "        [   496,    335,    277,  20103,   9682,    935,    658,   2736,   1133,\n",
      "            259,   4166, 113436,    380,      1,      0,      0,      0,      0,\n",
      "              0,      0],\n",
      "        [   661,   1124,  18968,  45197,    260,    661,   1221,    707,   9474,\n",
      "            301,  34013,    261,  46536,    265,    340,    300, 101660,    259,\n",
      "          48899,      1],\n",
      "        [   265,  39591,    265,    331,    277,  16347,    260,      1,      0,\n",
      "              0,      0,      0,      0,      0,      0,      0,      0,      0,\n",
      "              0,      0]]), 'clean': tensor([[   259,  70432,    293,  42605,    734,    335,    293,  20103,  11341,\n",
      "           1319,    261,    259,   2651,    421,   2852,  26459, 210436,    259,\n",
      "           1391,      1],\n",
      "        [   261,   8353,   2519,    265,  83665,    834,    335,    499,    262,\n",
      "         130600,    260,      1,      0,      0,      0,      0,      0,      0,\n",
      "              0,      0],\n",
      "        [   261,    259,    265,    935,    878,  38323,   1133,    267,  60322,\n",
      "           1133,    573,   3302,    262,   9682,    261,    259,    265,  42040,\n",
      "         223162,      1],\n",
      "        [ 10259,    573,  11341,   1319,    261,    734,    935,   3396,   5475,\n",
      "            421,   2852,    260,      1,      0,      0,      0,      0,      0,\n",
      "              0,      0],\n",
      "        [ 29866,    293,   3350,    259,    266,    268,    259,   2634,  85257,\n",
      "            293,    265,    259,  48335,    268,    261, 117209,   1856,    259,\n",
      "            265,      1],\n",
      "        [   496,    335,    293,  20103,   9682,    935,    658,   2736,   1133,\n",
      "            259,   4166, 113436,    380,    309,      1,      0,      0,      0,\n",
      "              0,      0],\n",
      "        [   661,   1124,  18968,  45197,  40430,   1221,    707,   9474,    301,\n",
      "          34013,    261,    734,    340,    300, 101660,    259,  48899,    505,\n",
      "          14974,      1],\n",
      "        [ 39591,    265,    331,    293,  15046,    260,      1,      0,      0,\n",
      "              0,      0,      0,      0,      0,      0,      0,      0,      0,\n",
      "              0,      0]])}\n"
     ]
    }
   ],
   "source": [
    "batch = next(iter(training_dataset))\n",
    "print(batch)"
   ]
  },
  {
   "cell_type": "markdown",
   "id": "ece46c8b",
   "metadata": {},
   "source": [
    "Let's now decode the previous samples"
   ]
  },
  {
   "cell_type": "code",
   "execution_count": 37,
   "id": "dc0420b7",
   "metadata": {},
   "outputs": [
    {
     "name": "stdout",
     "output_type": "stream",
     "text": [
      "ocr:Quand'ecco che un'altra risata, anche più im- pertinente, clean:Quand’ecco che un’altra risata, anche più impertinente della\n",
      "ocr:'oro, dalla quale pendeva un me- daglione., clean:, dalla quale pendeva un medaglione.\n",
      "ocr:colazione, e non lo trovò: tornò una seconda volta, e, clean:, e nonlo trovò: tornò una seconda volta, e Lucignolo\n",
      "ocr:! Fu una risata, che non finiva più., clean:Fu una risata, che non finiva più.\n",
      "ocr:a quest' ora io ero belPe fritto, mangiato e, clean:quest’ora io ero bell’e fritto, mangiato e\n",
      "ocr:ma un'altra volta non mi farò tanto pregare, clean:ma un’altra volta non mi farò tanto pregare!\n",
      "ocr:— Sicurissimo. — Ma lo sai dicerto, clie le vacanze abbia, clean:— Sicurissimo.— Ma lo sai dicerto, che le vacanze abbiano principi\n",
      "ocr:e monete d' oro., clean:monete d’oro.\n"
     ]
    }
   ],
   "source": [
    "ocr_samples = batch['ocr']\n",
    "clean_samples = batch['clean']\n",
    "\n",
    "for i in range(len(ocr_samples)):\n",
    "    ocr = ocr_samples[i]\n",
    "    clean = clean_samples[i]\n",
    "    ocr_text = tokenizer.decode(ocr, skip_special_tokens=True)\n",
    "    clean_text = tokenizer.decode(clean, skip_special_tokens=True)\n",
    "    print(f'ocr:{ocr_text}, clean:{clean_text}')"
   ]
  },
  {
   "cell_type": "code",
   "execution_count": 32,
   "id": "1657735f",
   "metadata": {},
   "outputs": [
    {
     "data": {
      "application/vnd.jupyter.widget-view+json": {
       "model_id": "2a0341af92b0448882d77a4d85c7d58f",
       "version_major": 2,
       "version_minor": 0
      },
      "text/plain": [
       "  0%|          | 0/463 [00:00<?, ?it/s]"
      ]
     },
     "metadata": {},
     "output_type": "display_data"
    },
    {
     "name": "stderr",
     "output_type": "stream",
     "text": [
      "Passing a tuple of `past_key_values` is deprecated and will be removed in Transformers v4.48.0. You should pass an instance of `EncoderDecoderCache` instead, e.g. `past_key_values=EncoderDecoderCache.from_legacy_cache(past_key_values)`.\n"
     ]
    },
    {
     "name": "stdout",
     "output_type": "stream",
     "text": [
      "Epoch: 1 | Step: 25 | Avg. train loss: 15.536 | Avg. val loss: 10.378 | lr: 0.0009825517993456924\n",
      "Epoch: 1 | Step: 50 | Avg. train loss: 10.377 | Avg. val loss: 7.387 | lr: 0.000955288985823337\n",
      "Epoch: 1 | Step: 75 | Avg. train loss: 6.812 | Avg. val loss: 6.092 | lr: 0.0009280261723009815\n",
      "Epoch: 1 | Step: 100 | Avg. train loss: 5.944 | Avg. val loss: 5.455 | lr: 0.0009007633587786259\n",
      "Epoch: 1 | Step: 125 | Avg. train loss: 5.430 | Avg. val loss: 5.038 | lr: 0.0008735005452562704\n",
      "Epoch: 1 | Step: 150 | Avg. train loss: 5.074 | Avg. val loss: 4.780 | lr: 0.0008462377317339149\n",
      "Epoch: 1 | Step: 175 | Avg. train loss: 5.026 | Avg. val loss: 4.552 | lr: 0.0008189749182115595\n",
      "Epoch: 1 | Step: 200 | Avg. train loss: 4.689 | Avg. val loss: 4.318 | lr: 0.000791712104689204\n",
      "Epoch: 1 | Step: 225 | Avg. train loss: 4.483 | Avg. val loss: 4.114 | lr: 0.0007644492911668485\n",
      "Epoch: 1 | Step: 250 | Avg. train loss: 4.243 | Avg. val loss: 4.020 | lr: 0.000737186477644493\n",
      "Epoch: 1 | Step: 275 | Avg. train loss: 4.269 | Avg. val loss: 3.904 | lr: 0.0007099236641221374\n",
      "Epoch: 1 | Step: 300 | Avg. train loss: 4.083 | Avg. val loss: 3.839 | lr: 0.0006826608505997819\n",
      "Epoch: 1 | Step: 325 | Avg. train loss: 3.930 | Avg. val loss: 3.805 | lr: 0.0006553980370774264\n",
      "Epoch: 1 | Step: 350 | Avg. train loss: 4.012 | Avg. val loss: 3.766 | lr: 0.0006281352235550709\n",
      "Epoch: 1 | Step: 375 | Avg. train loss: 3.902 | Avg. val loss: 3.716 | lr: 0.0006008724100327154\n",
      "Epoch: 1 | Step: 400 | Avg. train loss: 3.821 | Avg. val loss: 3.676 | lr: 0.00057360959651036\n",
      "Epoch: 1 | Step: 425 | Avg. train loss: 3.860 | Avg. val loss: 3.650 | lr: 0.0005463467829880044\n",
      "Epoch: 1 | Step: 450 | Avg. train loss: 3.788 | Avg. val loss: 3.591 | lr: 0.0005190839694656489\n"
     ]
    },
    {
     "data": {
      "application/vnd.jupyter.widget-view+json": {
       "model_id": "49365149b4744d0892e5e165b3133ade",
       "version_major": 2,
       "version_minor": 0
      },
      "text/plain": [
       "  0%|          | 0/463 [00:00<?, ?it/s]"
      ]
     },
     "metadata": {},
     "output_type": "display_data"
    },
    {
     "name": "stdout",
     "output_type": "stream",
     "text": [
      "Epoch: 2 | Step: 25 | Avg. train loss: 3.464 | Avg. val loss: 3.586 | lr: 0.0004776444929116685\n",
      "Epoch: 2 | Step: 50 | Avg. train loss: 3.407 | Avg. val loss: 3.562 | lr: 0.00045038167938931295\n",
      "Epoch: 2 | Step: 75 | Avg. train loss: 3.490 | Avg. val loss: 3.516 | lr: 0.00042311886586695745\n",
      "Epoch: 2 | Step: 100 | Avg. train loss: 3.380 | Avg. val loss: 3.508 | lr: 0.000395856052344602\n",
      "Epoch: 2 | Step: 125 | Avg. train loss: 3.385 | Avg. val loss: 3.505 | lr: 0.0003685932388222465\n",
      "Epoch: 2 | Step: 150 | Avg. train loss: 3.536 | Avg. val loss: 3.472 | lr: 0.00034133042529989094\n",
      "Epoch: 2 | Step: 175 | Avg. train loss: 3.337 | Avg. val loss: 3.467 | lr: 0.00031406761177753544\n",
      "Epoch: 2 | Step: 200 | Avg. train loss: 3.318 | Avg. val loss: 3.454 | lr: 0.00028680479825518\n",
      "Epoch: 2 | Step: 225 | Avg. train loss: 3.315 | Avg. val loss: 3.425 | lr: 0.00025954198473282443\n",
      "Epoch: 2 | Step: 250 | Avg. train loss: 3.306 | Avg. val loss: 3.409 | lr: 0.00023227917121046893\n",
      "Epoch: 2 | Step: 275 | Avg. train loss: 3.344 | Avg. val loss: 3.391 | lr: 0.00020501635768811343\n",
      "Epoch: 2 | Step: 300 | Avg. train loss: 3.411 | Avg. val loss: 3.371 | lr: 0.0001777535441657579\n",
      "Epoch: 2 | Step: 325 | Avg. train loss: 3.379 | Avg. val loss: 3.368 | lr: 0.00015049073064340242\n",
      "Epoch: 2 | Step: 350 | Avg. train loss: 3.416 | Avg. val loss: 3.362 | lr: 0.0001232279171210469\n",
      "Epoch: 2 | Step: 375 | Avg. train loss: 3.351 | Avg. val loss: 3.360 | lr: 9.596510359869139e-05\n",
      "Epoch: 2 | Step: 400 | Avg. train loss: 3.310 | Avg. val loss: 3.355 | lr: 6.870229007633588e-05\n",
      "Epoch: 2 | Step: 425 | Avg. train loss: 3.226 | Avg. val loss: 3.351 | lr: 4.1439476553980374e-05\n",
      "Epoch: 2 | Step: 450 | Avg. train loss: 3.237 | Avg. val loss: 3.348 | lr: 1.4176663031624864e-05\n"
     ]
    }
   ],
   "source": [
    "for epoch_idx in range(n_epochs):\n",
    "    data = data_generator(tokenized_train_data, batch_size, shuffle=True)   \n",
    "\n",
    "    for batch_idx, (input_batch, label_batch) in tqdm(enumerate(data), total=n_batches):\n",
    "\n",
    "        # zero the gradients\n",
    "        optimizer.zero_grad()\n",
    "\n",
    "        # forward pass\n",
    "        model_out = model.forward(\n",
    "            input_ids = input_batch, \n",
    "            labels = label_batch    # not strictly necessarily, but if we do it,\n",
    "                                    # it computes the loss for us\n",
    "        )\n",
    "\n",
    "        loss = model_out.loss\n",
    "        train_loss.append(loss.item())\n",
    "\n",
    "        # compute the gradients\n",
    "        loss.backward()\n",
    "\n",
    "        # update the weights\n",
    "        optimizer.step()\n",
    "\n",
    "        # The scheduler adaptes the leraning rate\n",
    "        scheduler.step()\n",
    "\n",
    "        if (batch_idx + 1) % print_freq == 0:\n",
    "            #average loss for the last 'print_freq' batches\n",
    "            avg_loss = np.mean(train_loss[-print_freq:])\n",
    "            eval_loss = eval_model(model, tokenized_val_data)\n",
    "            eval_losses.append(eval_loss)\n",
    "            print('Epoch: {} | Step: {} | Avg. train loss: {:.3f} | Avg. val loss: {:.3f} | lr: {}'.format(\n",
    "                epoch_idx+1, batch_idx+1, avg_loss, eval_loss, scheduler.get_last_lr()[0]))\n",
    "\n",
    "torch.save(model.state_dict(), '../model/mt5_finetuned')\n",
    "\n"
   ]
  },
  {
   "cell_type": "markdown",
   "id": "8e6c8710",
   "metadata": {},
   "source": [
    "#### Plots"
   ]
  },
  {
   "cell_type": "code",
   "execution_count": 31,
   "id": "d39fcc5d",
   "metadata": {},
   "outputs": [],
   "source": [
    "def plot(data, label):\n",
    "    plt.plot(data, label=label)\n",
    "    plt.legend()\n",
    "    plt.show()"
   ]
  },
  {
   "cell_type": "code",
   "execution_count": 32,
   "id": "addab164",
   "metadata": {},
   "outputs": [
    {
     "data": {
      "image/png": "[encoded data removed]",
      "text/plain": [
       "<Figure size 640x480 with 1 Axes>"
      ]
     },
     "metadata": {},
     "output_type": "display_data"
    }
   ],
   "source": [
    "plot(history['train_loss'], label='Train loss')"
   ]
  },
  {
   "cell_type": "code",
   "execution_count": 33,
   "id": "f811dd87",
   "metadata": {},
   "outputs": [
    {
     "data": {
      "image/png": "[encoded data removed]",
      "text/plain": [
       "<Figure size 640x480 with 1 Axes>"
      ]
     },
     "metadata": {},
     "output_type": "display_data"
    }
   ],
   "source": [
    "plot(history['val_loss'], label='Evaluation loss')"
   ]
  },
  {
   "cell_type": "markdown",
   "id": "25b26f23",
   "metadata": {},
   "source": [
    "#### Testing and Inference"
   ]
  },
  {
   "cell_type": "code",
   "execution_count": null,
   "id": "5b7591c4",
   "metadata": {},
   "outputs": [],
   "source": [
    "# Load the model\n",
    "mt5_finetuned = AutoModelForSeq2SeqLM.from_pretrained(\"../model/fine-tuned-models\")\n",
    "mt5_tokenizer = AutoTokenizer.from_pretrained(\"../model/fine-tuned-models\")"
   ]
  },
  {
   "cell_type": "code",
   "execution_count": 34,
   "id": "a4be470d",
   "metadata": {},
   "outputs": [],
   "source": [
    "# Load the test dataset\n",
    "test = load_from_disk(\"../datasets/t5-datasets/test\")"
   ]
  },
  {
   "cell_type": "code",
   "execution_count": 39,
   "id": "9bea95cb",
   "metadata": {},
   "outputs": [],
   "source": [
    "ocr_sample = test[0]['ocr']\n",
    "clean_sample = test[0]['clean']"
   ]
  },
  {
   "cell_type": "code",
   "execution_count": 40,
   "id": "805aa568",
   "metadata": {},
   "outputs": [
    {
     "name": "stdout",
     "output_type": "stream",
     "text": [
      "ocr_sample:\n",
      "I. \n",
      "Como  andò  che  Maestro  Ciliegia,  Megnamc \n",
      "trovò  un  pezzo  di  legno  che  piangeva  e  rideva  come  un  bambino.\n",
      "\n",
      "clean_sample:\n",
      "I.Come andò che Maestro Ciliegia, falegname\n",
      "trovò un pezzo di legno che piangeva e rideva come un bambino.\n"
     ]
    }
   ],
   "source": [
    "print(f'ocr_sample:\\n{ocr_sample}\\n')\n",
    "print(f'clean_sample:\\n{clean_sample}')"
   ]
  },
  {
   "cell_type": "code",
   "execution_count": 41,
   "id": "e5592064",
   "metadata": {},
   "outputs": [
    {
     "name": "stdout",
     "output_type": "stream",
     "text": [
      "I. Come andò che Maestro c’il mondo che piangeva e rideva come\n"
     ]
    }
   ],
   "source": [
    "input_ids = tokenizer.encode(ocr_sample, return_tensors='pt')[0]\n",
    "input_ids = input_ids.unsqueeze(0)\n",
    "\n",
    "output_tokens = model.generate(input_ids, num_beams=1, num_return_sequences=1)\n",
    "prediction = tokenizer.decode(output_tokens[0], skip_special_tokens=True)\n",
    "print(prediction)"
   ]
  },
  {
   "cell_type": "code",
   "execution_count": 38,
   "id": "c9ab761f",
   "metadata": {},
   "outputs": [
    {
     "name": "stdout",
     "output_type": "stream",
     "text": [
      "— ragazzi, avete sbagliato.\n"
     ]
    }
   ],
   "source": [
    "for token_set in output_tokens:\n",
    "    prediction = tokenizer.decode(token_set,skip_special_tokens=True)\n",
    "\n",
    "    print(prediction)"
   ]
  },
  {
   "cell_type": "markdown",
   "id": "bed498a3",
   "metadata": {},
   "source": [
    "#### Rouge scores"
   ]
  },
  {
   "cell_type": "markdown",
   "id": "c2b4b76f",
   "metadata": {},
   "source": [
    "As before, we'll need to create chunks of data."
   ]
  },
  {
   "cell_type": "code",
   "execution_count": 50,
   "id": "d120e328",
   "metadata": {},
   "outputs": [
    {
     "name": "stdout",
     "output_type": "stream",
     "text": [
      "Dataset({\n",
      "    features: ['ocr', 'clean'],\n",
      "    num_rows: 244\n",
      "})\n"
     ]
    }
   ],
   "source": [
    "print(test)"
   ]
  },
  {
   "cell_type": "code",
   "execution_count": null,
   "id": "82a7ab84",
   "metadata": {},
   "outputs": [],
   "source": [
    "def chunk_sample(sample):\n",
    "    chunks = []\n",
    "    sample_size = len(sample)\n",
    "    for i in range(0, sample_size, 19):\n",
    "        if \n"
   ]
  },
  {
   "cell_type": "code",
   "execution_count": 51,
   "id": "2de9a8ce",
   "metadata": {},
   "outputs": [],
   "source": [
    "def encode_test_sample(dataset):\n",
    "    chunked_dataset = []\n",
    "    for sample in dataset:\n",
    "        ocr = sample['ocr']\n",
    "        ocr_input_ids = tokenizer.encode(ocr, return_tensors='pt')[0]\n",
    "        chunks = chunk_sample(ocr_input_ids)\n",
    "        for t in chunks:\n",
    "            chunked_dataset.append(t)\n",
    "    \n",
    "    return chunked_dataset\n"
   ]
  },
  {
   "cell_type": "code",
   "execution_count": 45,
   "id": "c89b0e4f",
   "metadata": {},
   "outputs": [],
   "source": [
    "metric = evaluate.load(\"rouge\")"
   ]
  },
  {
   "cell_type": "code",
   "execution_count": 46,
   "id": "00c5fdd1",
   "metadata": {},
   "outputs": [],
   "source": [
    "def compute_rouge(dataset, model):\n",
    "    '''\n",
    "    - dataset: test dataset \n",
    "    '''\n",
    "\n",
    "    model.eval()\n",
    "\n",
    "    test_data = data_generator(dataset, tokenizer, batch_size=4)\n",
    "\n",
    "    all_decoded_preds = []\n",
    "    all_decoded_labels = []\n",
    "\n",
    "    #test_losses = []\n",
    "    for _, (input_batch, label_batch) in enumerate(test_data):\n",
    "        preds = model.generate(input_batch, num_beams=1, num_return_sequences=1)\n",
    "        decoded_preds = tokenizer.batch_decode(preds, skip_special_tokens=True)\n",
    "        decoded_labels = tokenizer.batch_decode(label_batch, skip_special_tokens=True)\n",
    "\n",
    "        all_decoded_preds.extend(decoded_preds)\n",
    "        all_decoded_labels.extend(decoded_labels)\n",
    "\n",
    "    result = metric.compute(predictions=all_decoded_preds, references=all_decoded_labels)\n",
    "\n",
    "    return result\n",
    "    \n"
   ]
  },
  {
   "cell_type": "code",
   "execution_count": 47,
   "id": "128621dd",
   "metadata": {},
   "outputs": [
    {
     "ename": "NameError",
     "evalue": "name 'data_generator' is not defined",
     "output_type": "error",
     "traceback": [
      "\u001b[0;31m---------------------------------------------------------------------------\u001b[0m",
      "\u001b[0;31mNameError\u001b[0m                                 Traceback (most recent call last)",
      "Cell \u001b[0;32mIn[47], line 1\u001b[0m\n\u001b[0;32m----> 1\u001b[0m rouge_scores \u001b[38;5;241m=\u001b[39m \u001b[43mcompute_rouge\u001b[49m\u001b[43m(\u001b[49m\u001b[43mtest\u001b[49m\u001b[43m,\u001b[49m\u001b[43m \u001b[49m\u001b[43mmodel\u001b[49m\u001b[43m)\u001b[49m\n",
      "Cell \u001b[0;32mIn[46], line 8\u001b[0m, in \u001b[0;36mcompute_rouge\u001b[0;34m(dataset, model)\u001b[0m\n\u001b[1;32m      2\u001b[0m \u001b[38;5;250m\u001b[39m\u001b[38;5;124;03m'''\u001b[39;00m\n\u001b[1;32m      3\u001b[0m \u001b[38;5;124;03m- dataset: test dataset \u001b[39;00m\n\u001b[1;32m      4\u001b[0m \u001b[38;5;124;03m'''\u001b[39;00m\n\u001b[1;32m      6\u001b[0m model\u001b[38;5;241m.\u001b[39meval()\n\u001b[0;32m----> 8\u001b[0m test_data \u001b[38;5;241m=\u001b[39m \u001b[43mdata_generator\u001b[49m(dataset, tokenizer, batch_size\u001b[38;5;241m=\u001b[39m\u001b[38;5;241m4\u001b[39m)\n\u001b[1;32m     10\u001b[0m all_decoded_preds \u001b[38;5;241m=\u001b[39m []\n\u001b[1;32m     11\u001b[0m all_decoded_labels \u001b[38;5;241m=\u001b[39m []\n",
      "\u001b[0;31mNameError\u001b[0m: name 'data_generator' is not defined"
     ]
    }
   ],
   "source": [
    "rouge_scores = compute_rouge(test, model)"
   ]
  },
  {
   "cell_type": "code",
   "execution_count": 86,
   "id": "0282e00e",
   "metadata": {},
   "outputs": [
    {
     "name": "stdout",
     "output_type": "stream",
     "text": [
      "{'rouge1': 0.7774912485382005, 'rouge2': 0.69925788533276, 'rougeL': 0.7726068291210269, 'rougeLsum': 0.7731892934093172}\n"
     ]
    }
   ],
   "source": [
    "print(rouge_scores)"
   ]
  }
 ],
 "metadata": {
  "kernelspec": {
   "display_name": "Python 3",
   "language": "python",
   "name": "python3"
  },
  "language_info": {
   "codemirror_mode": {
    "name": "ipython",
    "version": 3
   },
   "file_extension": ".py",
   "mimetype": "text/x-python",
   "name": "python",
   "nbconvert_exporter": "python",
   "pygments_lexer": "ipython3",
   "version": "3.10.12"
  }
 },
 "nbformat": 4,
 "nbformat_minor": 5
}
