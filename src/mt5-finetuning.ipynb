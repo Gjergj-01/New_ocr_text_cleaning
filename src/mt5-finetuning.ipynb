{
 "cells": [
  {
   "cell_type": "markdown",
   "id": "3d08b53c",
   "metadata": {},
   "source": [
    "### Fine-tuning mt5 for cleaning italian ocr text\n",
    "In the following notebook we fine-tune **mt5-base** for cleaning italian ocr-text."
   ]
  },
  {
   "cell_type": "code",
   "execution_count": 1,
   "id": "3a95dc9b",
   "metadata": {},
   "outputs": [
    {
     "name": "stderr",
     "output_type": "stream",
     "text": [
      "2025-09-04 10:21:50.799860: I tensorflow/core/platform/cpu_feature_guard.cc:210] This TensorFlow binary is optimized to use available CPU instructions in performance-critical operations.\n",
      "To enable the following instructions: AVX2 FMA, in other operations, rebuild TensorFlow with the appropriate compiler flags.\n"
     ]
    }
   ],
   "source": [
    "import matplotlib.pyplot as plt\n",
    "import numpy as np\n",
    "import torch\n",
    "import torch.utils.data as data\n",
    "from torch.utils.data import Dataset, DataLoader\n",
    "from transformers import AutoModelForSeq2SeqLM, AutoTokenizer\n",
    "from torch.optim import AdamW\n",
    "from transformers import get_linear_schedule_with_warmup\n",
    "from tqdm.notebook import tqdm \n",
    "import evaluate\n",
    "import numpy as np\n",
    "from datasets import Dataset\n",
    "from datasets import load_from_disk\n",
    "from datasets import concatenate_datasets\n",
    "import seaborn as sns\n",
    "import json\n",
    "import random\n"
   ]
  },
  {
   "cell_type": "markdown",
   "id": "a49cb5de",
   "metadata": {},
   "source": [
    "#### Load datasets"
   ]
  },
  {
   "cell_type": "code",
   "execution_count": 3,
   "id": "e4dcaa27",
   "metadata": {},
   "outputs": [],
   "source": [
    "train = load_from_disk(\"../datasets/t5-datasets/train\")\n",
    "\n",
    "# We reserve a 5% of the training set for evaluation\n",
    "train = train.train_test_split(test_size=0.05)"
   ]
  },
  {
   "cell_type": "code",
   "execution_count": 4,
   "id": "ad27f377",
   "metadata": {},
   "outputs": [],
   "source": [
    "train_dataset = train['train']\n",
    "eval_dataset = train['test']"
   ]
  },
  {
   "cell_type": "markdown",
   "id": "c5418579",
   "metadata": {},
   "source": [
    "#### Load mt5-base and its tokenizer"
   ]
  },
  {
   "cell_type": "code",
   "execution_count": 5,
   "id": "4a7f1fd3",
   "metadata": {},
   "outputs": [
    {
     "name": "stderr",
     "output_type": "stream",
     "text": [
      "You are using the default legacy behaviour of the <class 'transformers.models.t5.tokenization_t5.T5Tokenizer'>. This is expected, and simply means that the `legacy` (previous) behavior will be used so nothing changes for you. If you want to use the new behaviour, set `legacy=False`. This should only be set if you understand what it means, and thoroughly read the reason why this was added as explained in https://github.com/huggingface/transformers/pull/24565\n",
      "/home/gjergj/.local/lib/python3.10/site-packages/transformers/convert_slow_tokenizer.py:564: UserWarning: The sentencepiece tokenizer that you are converting to a fast tokenizer uses the byte fallback option which is not implemented in the fast tokenizers. In practice this means that the fast version of the tokenizer can produce unknown tokens whereas the sentencepiece version would have converted these unknown tokens into a sequence of byte tokens matching the original piece of text.\n",
      "  warnings.warn(\n"
     ]
    }
   ],
   "source": [
    "model = AutoModelForSeq2SeqLM.from_pretrained(\"../../mt5-base\")\n",
    "tokenizer = AutoTokenizer.from_pretrained(\"../../mt5-base\")"
   ]
  },
  {
   "cell_type": "markdown",
   "id": "c3caecb2",
   "metadata": {},
   "source": [
    "#### Data Preparation"
   ]
  },
  {
   "cell_type": "markdown",
   "id": "208dcef0",
   "metadata": {},
   "source": [
    "Before proceeding let's first check the length of the encoded samples."
   ]
  },
  {
   "cell_type": "code",
   "execution_count": 6,
   "id": "16107330",
   "metadata": {},
   "outputs": [
    {
     "data": {
      "image/png": "[encoded data removed]",
      "text/plain": [
       "<Figure size 640x480 with 1 Axes>"
      ]
     },
     "metadata": {},
     "output_type": "display_data"
    }
   ],
   "source": [
    "encoded_inputs_length = [] # store the length of the encoded samples\n",
    "\n",
    "for sample in train_dataset:\n",
    "    input_ids = tokenizer.encode(sample['ocr'], return_tensors='pt')\n",
    "    encoded_inputs_length.append(len(input_ids[0]))\n",
    "\n",
    "\n",
    "encoded_inputs_length.sort(reverse=True)\n",
    "\n",
    "sns.histplot(encoded_inputs_length, bins=10, discrete=True)\n",
    "\n",
    "plt.xlim(0, 300)\n",
    "plt.xlabel('input_ids length')\n",
    "plt.ylabel('Frequency')\n",
    "plt.title('Histogram of the lengths of the encoded inputs')\n",
    "\n",
    "plt.show()"
   ]
  },
  {
   "cell_type": "code",
   "execution_count": 7,
   "id": "7f9e265a",
   "metadata": {},
   "outputs": [
    {
     "name": "stdout",
     "output_type": "stream",
     "text": [
      "20\n"
     ]
    }
   ],
   "source": [
    "print(model.config.max_length)"
   ]
  },
  {
   "cell_type": "markdown",
   "id": "6a6f392d",
   "metadata": {},
   "source": [
    "As showed above, the predefined input length of mt5 is 20 tokens, but as we can see from the histogram above, a significant number of tokenized samples are longer. Therefore, in order to not lose too much data, instead of just truncating the samples, we create chunks of 20 tokens. As an example, the two strings:\n",
    "\n",
    "ocr:  \n",
    "\" \\n—  Kagazzo  mio,  —  disse  la  Fata  —  quelli  che \\ndicono  così.  Uniscono  quasi  sempre  o  in  carcere \\no  all'ospedale.\"\n",
    "\n",
    "clean:  \n",
    "\"— Ragazzo mio, — disse la Fata — quelli che dicono così, finiscono quasi sempre o in carcere o all’ospedale.\"\n",
    "\n",
    "become:\n",
    "```\n",
    "ocr_tokens: ['▁—', '▁Kaga', 'zzo', '▁mio', ',', '▁—', '▁disse', '▁la', '▁Fata', '▁—', '▁quell', 'i', '▁che', '▁di', 'cono', '▁cos', 'ì', '.', '▁Un', '</s>'], \n",
    "clean_tokens: ['▁—', '▁Rag', 'azzo', '▁mio', ',', '▁—', '▁disse', '▁la', '▁Fata', '▁—', '▁quell', 'i', '▁che', '▁di', 'cono', '▁cos', 'ì', ',', '▁fin', '</s>']\n",
    "\n",
    "\n",
    "ocr_tokens: ['iscono', '▁quasi', '▁sempre', '▁', 'o', '▁in', '▁', 'carcer', 'e', '▁', 'o', '▁all', \"'\", 'os', 'pedale', '.', '</s>', '<pad>', '<pad>', '<pad>'], \n",
    "clean_tokens: ['iscono', '▁quasi', '▁sempre', '▁', 'o', '▁in', '▁', 'carcer', 'e', '▁', 'o', '▁all', '’', 'os', 'pedale', '.', '</s>', '<pad>', '<pad>', '<pad>']\n",
    "```\n",
    "In order to produce such chunks, we used used the `sequence-alignment` algorithm, proposed by Needleman and Wunsch for aligning biological sequences. As explained better later, we used the algorithm for aligning the ocr tokens with the clean ones, and then we split the samples in order to produce chunks of 20 tokens.\n"
   ]
  },
  {
   "cell_type": "markdown",
   "id": "7458f97f",
   "metadata": {},
   "source": [
    "**Data Augmentation**  \n",
    "Before proceeding in splitting the samples in chunks of 20 tokens, we consider the possibility of applying some data augumentation. To do so, we define a dictionary with the most common mistakes (for example `i → 1 or l`, `m → rn`, `n → ri` and so on) committed by ocr systems. Then, each time we encounter one of the keys of the dictionary, we manually make the substitution with a probablity $p$. For simplicity we select samples that are no longer than 18 tokens, which correspond to roughly 5% of the training dataset. "
   ]
  },
  {
   "cell_type": "code",
   "execution_count": 8,
   "id": "bb6116fb",
   "metadata": {},
   "outputs": [],
   "source": [
    "# First we select some candidate samples, to which apply might apply some augmentation\n",
    "\n",
    "candidates = [] \n",
    "for sample in train_dataset:\n",
    "    input_ids = tokenizer.encode(sample['ocr'], return_tensors='pt')[0]\n",
    "    if len(input_ids) < 19:\n",
    "        candidates.append(sample)\n"
   ]
  },
  {
   "cell_type": "code",
   "execution_count": 9,
   "id": "c1eb4dff",
   "metadata": {},
   "outputs": [],
   "source": [
    "common_errors = {'i': ['1', 'l'], 'o': ['0'], 'm': ['rn'], 'n': ['ri'], 'l':['1'], 'c': ['e'], \n",
    "                 'a': ['o'], 'r':['v'], 't': ['f'], 's':['5'], 'z': ['2'], 'b': ['h', 'l'], \n",
    "                 'rn': ['m'], 'ri': ['n'], 'cl': ['d'], 'li': ['h'], 'vv': ['w'], 'lu': ['U'], \n",
    "                 'è': ['e', 'é'], 'ò': ['o', 'ó'], 'à': ['a', 'á']}\n",
    "\n",
    "def augment_data(samples, p):\n",
    "\n",
    "    ''' \n",
    "    - samples to which apply data augmentation\n",
    "    - p: probability that a character or a bigram is changes with one of the common erros\n",
    "         NOTE: we keep this probablity very low (around 10 %) since the ocr samples \n",
    "               present already a lot of noise   \n",
    "    '''\n",
    "    modified_samples = []\n",
    "\n",
    "    keys = common_errors.keys()\n",
    "    for sample in candidates:\n",
    "        # check characters\n",
    "        modified = False\n",
    "        ocr_sample = sample['ocr']\n",
    "        for i in range(len(ocr_sample)):\n",
    "            c = ocr_sample[i]\n",
    "            if c in keys:\n",
    "                rv = random.random()\n",
    "                if p >= rv:\n",
    "                    ocr_sample = ocr_sample[:i] + random.choice(common_errors[c]) + ocr_sample[i+1:]\n",
    "                    modified = True\n",
    "\n",
    "        # check bigrams\n",
    "        for i in range(0, len(ocr_sample), 2):\n",
    "            bigram = ocr_sample[i: i+2]\n",
    "\n",
    "            if bigram in keys:\n",
    "                rv = random.random()\n",
    "                if p >= rv:\n",
    "                    ocr_sample = ocr_sample[:i] + random.choice(common_errors[bigram]) + ocr_sample[i+2:]\n",
    "                    modified = True\n",
    "\n",
    "        # if the sample was modified, we store it \n",
    "        if modified:\n",
    "            new_sample = {}\n",
    "            new_sample['ocr'] = ocr_sample\n",
    "            new_sample['clean'] = sample['clean']\n",
    "            modified_samples.append(new_sample)\n",
    "    \n",
    "    return modified_samples\n"
   ]
  },
  {
   "cell_type": "code",
   "execution_count": 10,
   "id": "11285ce8",
   "metadata": {},
   "outputs": [
    {
     "name": "stdout",
     "output_type": "stream",
     "text": [
      "Total modified samples: 299\n",
      "\n",
      "{'ocr': '  !  Po- \\ntrei puriirvi,  ma  5ì  vii  non  sono', 'clean': 'Potrei punirvi, ma sì vil non sono!'}\n",
      "{'ocr': '  —  ur1ò  Pi- \\nnocchio, vicominciando  a  p1ongere.', 'clean': '— urlò Pinocchio, ricominciando a piangere.'}\n",
      "{'ocr': ' \\n\\n\\nQuello  che  mangiò  meno  di  tatti  fu  Pin0cchio.', 'clean': 'Quello che mangiò meno di tutti fu Pinocchio.'}\n",
      "{'ocr': ' \\nFiguratevl  ll  povero  Pinocchio', 'clean': 'Figuratevi il povero Pinocchio!'}\n",
      "{'ocr': '  ! \\n—  E  eome  avete  fafto  a  eampare?', 'clean': '— E come avete fatto a campare?'}\n",
      "{'ocr': ' \\n—  In  che  mondo  5iamo  c0ndannati  a  vivere', 'clean': '— In che mondo siamo condannati a vivere?'}\n",
      "{'ocr': \"  Non  pu0i \\nsbagliave. \\n—  Mi  dica  un'  altra  cosa.\", 'clean': 'Non puoi sbagliare.— Mi dica un’altra cosa.'}\n",
      "{'ocr': ' \\n—  Fuori  Pinoechio!  Vog1iamo  i1  ciuchirio!', 'clean': '— Fuori Pinocchio!Vogliamo il ciuchino!'}\n",
      "{'ocr': \"  Ma  la \\nCa5ina  lianca  non  e'  era  più.\", 'clean': 'Ma la Casina bianca non c’era più.'}\n",
      "{'ocr': '!  Lo  inghiotfì  tutt0  in  un  boccone  1...', 'clean': 'Lo inghiottì tutto in un boccone?...'}\n"
     ]
    }
   ],
   "source": [
    "modified_samples = augment_data(candidates, p=0.10)\n",
    "\n",
    "print(f\"Total modified samples: {len(modified_samples)}\\n\")\n",
    "\n",
    "# Let's print the first 10 samples\n",
    "for i in range(10):\n",
    "    print(modified_samples[i])"
   ]
  },
  {
   "cell_type": "code",
   "execution_count": 11,
   "id": "b8160435",
   "metadata": {},
   "outputs": [
    {
     "name": "stdout",
     "output_type": "stream",
     "text": [
      "Dataset({\n",
      "    features: ['ocr', 'clean'],\n",
      "    num_rows: 2012\n",
      "})\n"
     ]
    }
   ],
   "source": [
    "# convert the new samples in a hugging face Dataset and concatenate it with \n",
    "# the original train set\n",
    "augmented_samples = Dataset.from_list(modified_samples)\n",
    "train_dataset = concatenate_datasets([train_dataset, augmented_samples])\n",
    "print(train_dataset)"
   ]
  },
  {
   "attachments": {
    "image.png": {
     "image/png": "[encoded data removed]"
    }
   },
   "cell_type": "markdown",
   "id": "c014f796",
   "metadata": {},
   "source": [
    "#### Sequence-alignment \n",
    "\n",
    "Now we proceed with splitting the samples in chunks of 20 tokens, and, in order to do so, we use the `sequence-alignment` algorithm, usually adopted in bioinformatics for aligning sequences of genes. The idea is the following.  \n",
    "Say we want to align the strings *stop* and *tops*. A possibility is:  \n",
    "\n",
    "`stop-`  \n",
    "`-tops`  \n",
    "\n",
    "As it can be seen there from the simple example considered above, there are two aspects that we need to clarify:\n",
    "1. First, it might not be possible at all to match a character with another one (this is clear when the length of the two strings is different), therefore we'll need to define a parameter $\\delta > 0$, that represents the **gap penalty**.\n",
    "2. Second, we need to define a mismatch cost $\\alpha > 0$, i.e. a price that we \"pay\" whenever we align two different characters.   \n",
    "\n",
    "Now, with that said, we have three possible cases that can occur. Consider an optimal alignment *M* of two string *X* and *Y*, then at least one of the follwing is true:\n",
    "1. $(m, n) \\in M$; \n",
    "2. the $m^{th}$ position of X is not matched;\n",
    "3. the $n^{th}$ position of Y in not matched;\n",
    "\n",
    "With these observations we can define the follwoing recursion that computes the mimimum cost for aligning two sequences:  \n",
    "$$OPT(i, j) = min[\\alpha_{x_iy_j} + OPT(i-1, j-1), \\delta + OPT(i-1, j), \\delta + OPT(i, j-1)]$$\n",
    "\n",
    "Using the recursion above, we can implement an algorithm that computes the *minimum-cost* for aligning two sequences. However, this does not output the optimal alignment, but we'll need to retrieve it.  \n",
    "To birefly give an intuition, consider the picture above, where the algorithm tries to align *name* with *mean*.  \n",
    "\n",
    " ![image.png](attachment:image.png)\n",
    "\n",
    "If we look at the matrix as a graph, it can be shown that the value of the optimal alignment is the length if the shortest path from the node $(0, 0)$ to $(m, n)$. Following the arrows backward from from node (4, 4), we can trace back to reconstruct the alignment.  \n",
    "So, to reconstruct:\n",
    "1. Trace back through the filled table, startin at M[m, n]\n",
    "2. If M[i, j] was filled using:\n",
    "    1. case 1, go to $(i-1, j-1)$\n",
    "    2. case 2, go to $(i-1, j)$\n",
    "    3. case 3, go to $(i, j-1)$\n",
    "3. If either i = 0 or j = 0, match the remaining substring with *gaps*.  \n",
    "\n",
    "NOTE: Here we will apply the algorithm to align tokens instead of of characters.\n"
   ]
  },
  {
   "cell_type": "code",
   "execution_count": 2,
   "id": "646b7c3f",
   "metadata": {},
   "outputs": [],
   "source": [
    "def sequence_alignment(A, B, delta, alpha):\n",
    "    ''' \n",
    "    - A: token ids of the ocr sample\n",
    "    - B: token ids of the clean sample \n",
    "    - delta: penalty gap\n",
    "    - alpha: penalty mismatch\n",
    "    '''\n",
    "    m = len(A)\n",
    "    n = len(B)\n",
    "\n",
    "    # As gap token we use: @ → 1250 (beacuse it never occurs in the dataset, and it is encoded with just one value)\n",
    "    gap_token = 1250\n",
    "\n",
    "\n",
    "    # initaliaze the matrix\n",
    "    M = np.zeros((m+1, n+1), dtype=int)\n",
    "\n",
    "    # for purposes of initialization, we fill the first row and the first column \n",
    "    # with the cost that we would pay to align an i-letter word with a 0-letter\n",
    "    # word. And the only way to do so is by using gaps\n",
    "    for i in range(m+1):\n",
    "        M[i, 0] = i * delta \n",
    "\n",
    "    for j in range(n+1):\n",
    "        M[0, j] = j * delta \n",
    "\n",
    "    # Now we compute the cost matrix\n",
    "    for i in range(1, m+1):\n",
    "        for j in range(1, n+1):\n",
    "            cost = 0 if A[i-1] == B[j-1] else alpha\n",
    "\n",
    "            M[i, j] = min(cost + M[i-1, j-1], delta + M[i-1, j], delta + M[i, j-1])\n",
    "\n",
    "\n",
    "\n",
    "    # In the following we backtrack from the cost matrix to \n",
    "    # reconstuct the solution\n",
    "    l = n + m\n",
    "    i = m\n",
    "    j = n\n",
    "\n",
    "    ocr_pos = l\n",
    "    clean_pos = l \n",
    "\n",
    "    ocr = np.zeros(l+1, dtype=int)\n",
    "    clean = np.zeros(l+1, dtype=int)\n",
    "\n",
    "    while not (i == 0 or j == 0):\n",
    "        if A[i-1] == B[j-1]:    # case where the two tokens match\n",
    "            ocr[ocr_pos] = A[i-1]\n",
    "            clean[clean_pos] = B[j-1]\n",
    "            ocr_pos -= 1\n",
    "            clean_pos -= 1 \n",
    "            i -= 1 \n",
    "            j -= 1 \n",
    "\n",
    "        elif (M[i-1][j-1] + alpha) == M[i][j]:  # case where we have a mismatch\n",
    "            ocr[ocr_pos] = A[i-1]\n",
    "            clean[clean_pos] = B[j-1]\n",
    "            ocr_pos -= 1 \n",
    "            clean_pos -= 1\n",
    "            i -= 1\n",
    "            j -= 1 \n",
    "\n",
    "        elif (M[i-1][j] + delta) == M[i][j]:    # case where we use a gap\n",
    "            ocr[ocr_pos] = A[i-1]\n",
    "            clean[clean_pos] = gap_token\n",
    "            ocr_pos -= 1\n",
    "            clean_pos -= 1 \n",
    "            i -= 1\n",
    "\n",
    "        elif (M[i][j-1] + delta) == M[i][j]:    # case where we use a gap\n",
    "            ocr[ocr_pos] = gap_token\n",
    "            clean[clean_pos] = B[j-1]\n",
    "            ocr_pos -= 1\n",
    "            clean_pos -= 1\n",
    "            j -= 1 \n",
    "    \n",
    "   \n",
    "   # If needed, fill the remaining positions with gaps\n",
    "    while ocr_pos > 0:\n",
    "        if i > 0:\n",
    "            i -= 1\n",
    "            ocr[ocr_pos] = A[i]\n",
    "            ocr_pos -= 1\n",
    "        else:\n",
    "            ocr[ocr_pos] = gap_token\n",
    "            ocr_pos -= 1\n",
    "\n",
    "    while clean_pos > 0:\n",
    "        if j > 0:\n",
    "            j -= 1\n",
    "            clean[clean_pos] = B[j]\n",
    "            clean_pos -= 1\n",
    "\n",
    "        else:\n",
    "            clean[clean_pos] = gap_token\n",
    "            clean_pos -= 1\n",
    "\n",
    "    # since we have assumed that the final answer is long m + n, \n",
    "    # we remove the gaps from the initial positions. \n",
    "    # The variable 'id' will store the starting index from where \n",
    "    # to retireve the aligned sequences\n",
    "    id = 1\n",
    "    i = l\n",
    "\n",
    "    while i > 0:\n",
    "        if ocr[i] == gap_token and clean[i] == gap_token:   # if both the positions are filled with a gap, skip them\n",
    "            id = i + 1\n",
    "            break \n",
    "\n",
    "        i -= 1\n",
    "\n",
    "    # Now ì, we are finally ready to retrieve the aligned sequences\n",
    "    i = id\n",
    "    x_seq = []\n",
    "\n",
    "    while i <= l:\n",
    "        x_seq.append(ocr[i])\n",
    "        i += 1\n",
    "\n",
    "\n",
    "    i = id \n",
    "    y_seq = []\n",
    "\n",
    "    while i <= l:\n",
    "        y_seq.append(clean[i])\n",
    "        i += 1 \n",
    "   \n",
    "\n",
    "    return torch.tensor(x_seq), torch.tensor(y_seq)\n",
    "\n",
    "\n",
    "        "
   ]
  },
  {
   "cell_type": "markdown",
   "id": "909beedb",
   "metadata": {},
   "source": [
    "Now, we proceed with the implementation of two auxiliary functions:\n",
    "1. `pad`: function that ensures that the `</s>` (end of sequence) token is always present in each sample and that each sample is padded to the desried lenght (20 tokens)\n",
    "2. `chunk_dataset`: auxiliary function that tokenizes each sample, calls the sequence-alignment algorithm to align the ocr tokens with the clean ones, and finally outputs the desired chunks."
   ]
  },
  {
   "cell_type": "code",
   "execution_count": 3,
   "id": "2742f240",
   "metadata": {},
   "outputs": [],
   "source": [
    "def pad(ocr_chunk, clean_chunk):\n",
    "    if ocr_chunk[-1].item() != 1:       # if needed, add </s> (EOS) token\n",
    "        ocr_chunk = torch.cat((ocr_chunk, torch.tensor([1])))\n",
    "\n",
    "    if len(ocr_chunk) < 20:             # if needed, pad to the desired length\n",
    "        while len(ocr_chunk) < 20:\n",
    "            ocr_chunk = torch.cat((ocr_chunk, torch.tensor([0])))   \n",
    "\n",
    "    # we do the same for the clean sample\n",
    "    if clean_chunk[-1].item() != 1:\n",
    "        clean_chunk = torch.cat((clean_chunk,  torch.tensor([1])))\n",
    "\n",
    "    if len(clean_chunk) < 20:\n",
    "        while len(clean_chunk) < 20:\n",
    "            clean_chunk = torch.cat((clean_chunk, torch.tensor([0])))\n",
    "\n",
    "    return (ocr_chunk, clean_chunk)"
   ]
  },
  {
   "cell_type": "code",
   "execution_count": 4,
   "id": "aabb9160",
   "metadata": {},
   "outputs": [],
   "source": [
    "def chunk_dataset(dataset, tokenizer):\n",
    "    ''' \n",
    "    - dataset: test dataset\n",
    "    - tokenizer: mt5 tokenizer\n",
    "    '''\n",
    "    chunked_dataset = {}\n",
    "    chunked_dataset['ocr'] = []\n",
    "    chunked_dataset['clean'] = []\n",
    "\n",
    "    tokenized_chunked_dataset = {}\n",
    "    tokenized_chunked_dataset['ocr'] = []\n",
    "    tokenized_chunked_dataset['clean'] = []\n",
    "\n",
    "    gap_token = 1250    # @ → we will remove this from the samples\n",
    "\n",
    "    # It can happen that some chunks are empty, or are composed\n",
    "    # by just one 'special' symbol (e.g. !, ?, .). We remove such \n",
    "    # extreme cases\n",
    "    elems = ['', ',', '.', '?', '!']   \n",
    "\n",
    "\n",
    "    for sample in dataset:\n",
    "        ocr_sample = sample['ocr']\n",
    "        clean_sample = sample['clean']\n",
    "\n",
    "        # compute the token ids\n",
    "        encoded_ocr = tokenizer.encode(ocr_sample, return_tensors='pt')[0]\n",
    "        encoded_clean = tokenizer.encode(clean_sample, return_tensors='pt')[0]\n",
    "\n",
    "        # align the token ids\n",
    "        ocr_seq, clean_seq = sequence_alignment(encoded_ocr, encoded_clean, delta=2, alpha=1)\n",
    "        \n",
    "        # Now we can proceede and produce chunks of 20 tokens\n",
    "        for i in range(0, len(ocr_seq), 19):\n",
    "\n",
    "            ocr_chunk = ocr_seq[i: i+19]\n",
    "            clean_chunk = clean_seq[i: i+19]\n",
    "\n",
    "            # remove the gap token\n",
    "            mask = ocr_chunk != gap_token\n",
    "            ocr_chunk = ocr_chunk[mask]\n",
    "\n",
    "            mask = clean_chunk != gap_token\n",
    "            clean_chunk = clean_chunk[mask]\n",
    "\n",
    "            decoded_ocr = tokenizer.decode(ocr_chunk, skip_special_tokens=True)\n",
    "            decoded_clean = tokenizer.decode(clean_chunk, skip_special_tokens=True)\n",
    "\n",
    "            # remove samples that are empty or composed by just \n",
    "            # one \"special\" character \n",
    "            if decoded_ocr in elems or decoded_clean in elems:\n",
    "                continue\n",
    "\n",
    "            # make sure that the last elem is the </s> token and\n",
    "            # pad to the desired length\n",
    "            ocr_chunk, clean_chunk = pad(ocr_chunk, clean_chunk)\n",
    "\n",
    "            chunked_dataset['ocr'].append(decoded_ocr)\n",
    "            chunked_dataset['clean'].append(decoded_clean)\n",
    "\n",
    "            tokenized_chunked_dataset['ocr'].append(ocr_chunk)\n",
    "            tokenized_chunked_dataset['clean'].append(clean_chunk)\n",
    "\n",
    "    return chunked_dataset, tokenized_chunked_dataset\n",
    "\n",
    "            "
   ]
  },
  {
   "cell_type": "code",
   "execution_count": 15,
   "id": "f70f9c30",
   "metadata": {},
   "outputs": [],
   "source": [
    "chunked_train_data, tokenized_chunked_train_data = chunk_dataset(train_dataset, tokenizer)\n",
    "chunked_eval_data, tokenized_chunked_eval_data = chunk_dataset(eval_dataset, tokenizer)"
   ]
  },
  {
   "cell_type": "code",
   "execution_count": 16,
   "id": "9aebfdde",
   "metadata": {},
   "outputs": [
    {
     "name": "stdout",
     "output_type": "stream",
     "text": [
      "ocr: sulla porta, si ricordò che aveva gli orecchi d'asi- no,,  clean: sulla porta, si ricordò che aveva gli orecchi d’asino,\n",
      "ocr: e vergognandosi di mostrarli in pubblico, che cosa inventò?,  clean: e vergognandosi di mostrarli in pubblico, che cosa inventò?\n",
      "ocr: ! Po- trei punirvi, ma sì vii non sono,  clean: Potrei punirvi, ma sì vil non sono!\n",
      "ocr: — urlò Pi- nocchio, ricominciando a piangere.,  clean: — urlò Pinocchio, ricominciando a piangere.\n",
      "ocr: Lucignolo era il ragazzo più svogliato e più birichino di ,  clean: Lucignolo era il ragazzo più svogliato e più birichino di \n",
      "ocr: tutta la scuola: m:i Pinocchio gli voleva un gran bene.,  clean: tutta la scuola: ma Pinocchio gli voleva un gran bene.\n",
      "ocr: — Pinocchio non se lo fece dire due volte: prese subito il sacchetto,  clean: — Pinocchio non se lo fece dire due volte: prese subito il sacchetto\n",
      "ocr: dei lupini che era vuoto, e dopo averci fatto colle forbici,  clean: dei lupini che era vuoto, e dopo averci fatto colle forbici\n",
      "ocr: una piccola buca nel fondo e due buche dalle parti, se lo,  clean: una piccola buca nel fondo e due buche dalle parti, se lo\n",
      "ocr: infilò a uso camicia.,  clean: infilò a uso camicia.\n"
     ]
    }
   ],
   "source": [
    "# Let's print the first 10 samples and look at the result\n",
    "i = 0\n",
    "for ocr, clean in zip(chunked_train_data['ocr'], chunked_train_data['clean']):\n",
    "    print(f'ocr: {ocr},  clean: {clean}')\n",
    "    i += 1\n",
    "    if i == 10:\n",
    "        break"
   ]
  },
  {
   "cell_type": "code",
   "execution_count": 17,
   "id": "41dfc47a",
   "metadata": {},
   "outputs": [
    {
     "name": "stdout",
     "output_type": "stream",
     "text": [
      "All fine\n"
     ]
    }
   ],
   "source": [
    "# Sanity check, verify that the produced chuncks have all size 20\n",
    "dataset_size = len(tokenized_chunked_train_data['ocr'])\n",
    "for i in range(dataset_size):\n",
    "    if tokenized_chunked_train_data['ocr'][i].shape != torch.Size([20]) or tokenized_chunked_train_data['clean'][i].shape != torch.Size([20]):\n",
    "        print(i)\n",
    "        print(tokenized_chunked_train_data['ocr'][i])\n",
    "        print(tokenized_chunked_train_data['clean'][i])\n",
    "        print('ERROR: something went wrong')\n",
    "        break\n",
    "print(\"All fine\")"
   ]
  },
  {
   "cell_type": "markdown",
   "id": "51eccb6a",
   "metadata": {},
   "source": [
    "Let's see what a sample looks like."
   ]
  },
  {
   "cell_type": "code",
   "execution_count": 52,
   "id": "c3df2528",
   "metadata": {},
   "outputs": [
    {
     "name": "stdout",
     "output_type": "stream",
     "text": [
      "ocr_input_ids: \n",
      " tensor([   834,   4735,   2972,   3784,    259,  14730, 211172,    266,    261,\n",
      "         17884,    834,    529,    264,    568,  27798,    259,    280,    277,\n",
      "        153465,      1])\n",
      "clean_input_ids:\n",
      "tensor([   834,   4735,   2972,   3784,    259,  14730, 211172,    266,    261,\n",
      "         17884,    834,    259,  13299,    522,    259,    280,    293, 153465,\n",
      "             1,      0])\n",
      "\n",
      "ocr_text: va fuori gli altri pesci, sentiva ve- nirsi l'acqu\n",
      "clean_text: va fuori gli altri pesci, sentiva venirsi l’acqu\n"
     ]
    }
   ],
   "source": [
    "# Let's now take a random sample and retrieve the original text\n",
    "ocr = tokenized_chunked_train_data['ocr'][858]\n",
    "clean = tokenized_chunked_train_data['clean'][858]\n",
    "\n",
    "print(f'ocr_input_ids: \\n {ocr}\\nclean_input_ids:\\n{clean}\\n')\n",
    "\n",
    "# let's decode the samples\n",
    "ocr_text = tokenizer.decode(ocr, skip_special_tokens=True)\n",
    "clean_text = tokenizer.decode(clean, skip_special_tokens=True)\n",
    "\n",
    "print(f'ocr_text: {ocr_text}\\nclean_text: {clean_text}')"
   ]
  },
  {
   "cell_type": "markdown",
   "id": "e46ece0c",
   "metadata": {},
   "source": [
    "### Dataset Preparation"
   ]
  },
  {
   "cell_type": "code",
   "execution_count": 5,
   "id": "15e40d06",
   "metadata": {},
   "outputs": [],
   "source": [
    "class CustomDataset(data.Dataset):\n",
    "\n",
    "    def __init__(self, dataset):\n",
    "        super().__init__()\n",
    "\n",
    "        ''' \n",
    "        - dataset: Python dictionary of the form:\n",
    "                   {'ocr': [list of ocr samples], 'clean': [list of the corresponding clean samples]}\n",
    "        '''\n",
    "        \n",
    "        self.data = []\n",
    "        self.num_samples = len(dataset['ocr'])\n",
    "        self.ocr_samples = dataset['ocr']\n",
    "        self.clean_samples = dataset['clean']\n",
    "\n",
    "        # training data will be a list of dictionaries\n",
    "        # each dictionary contains two keys: 'ocr' and 'clean' \n",
    "\n",
    "        for i in range(self.num_samples):\n",
    "            ocr_sample = self.ocr_samples[i]\n",
    "            clean_sample = self.clean_samples[i]\n",
    "\n",
    "            sample = {'ocr': ocr_sample, 'clean': clean_sample}\n",
    "            self.data.append(sample)\n",
    "\n",
    "    def __len__(self):\n",
    "        return self.num_samples\n",
    "    \n",
    "    def __getitem__(self, index):\n",
    "        return self.data[index]\n",
    "    "
   ]
  },
  {
   "cell_type": "code",
   "execution_count": 54,
   "id": "d0558065",
   "metadata": {},
   "outputs": [],
   "source": [
    "training_samples = CustomDataset(dataset=tokenized_chunked_train_data)\n",
    "val_samples = CustomDataset(dataset=tokenized_chunked_eval_data)  "
   ]
  },
  {
   "cell_type": "markdown",
   "id": "07ca09df",
   "metadata": {},
   "source": [
    "### Training "
   ]
  },
  {
   "cell_type": "code",
   "execution_count": 55,
   "id": "8ab6c868",
   "metadata": {},
   "outputs": [],
   "source": [
    "# training hyperparameters\n",
    "n_epochs = 2\n",
    "train_batch_size = 8\n",
    "eval_batch_size = 4\n",
    "print_freq = 25\n",
    "lr = 5e-4\n",
    "len_dataset = len(training_samples)\n",
    "n_batches = int(np.ceil(len_dataset / train_batch_size))\n",
    "total_steps = n_epochs * n_batches \n",
    "n_warmup_steps = int(total_steps * 0.01)"
   ]
  },
  {
   "cell_type": "code",
   "execution_count": 56,
   "id": "4346ad49",
   "metadata": {},
   "outputs": [
    {
     "name": "stdout",
     "output_type": "stream",
     "text": [
      "Total Steps: 1170\n",
      "Warmup Steps: 11\n"
     ]
    }
   ],
   "source": [
    "print(f'Total Steps: {total_steps}')\n",
    "print(f'Warmup Steps: {n_warmup_steps}')"
   ]
  },
  {
   "cell_type": "code",
   "execution_count": 22,
   "id": "a4859f3a",
   "metadata": {},
   "outputs": [],
   "source": [
    "# Optimizer\n",
    "optimizer = AdamW(model.parameters(), lr=lr)\n",
    "# We define a scheduler that will take care of adapting the learning rate\n",
    "scheduler = get_linear_schedule_with_warmup(optimizer, n_warmup_steps, total_steps)"
   ]
  },
  {
   "cell_type": "markdown",
   "id": "63d53c8a",
   "metadata": {},
   "source": [
    "#### The Trainer class"
   ]
  },
  {
   "cell_type": "code",
   "execution_count": 23,
   "id": "c4329ed8",
   "metadata": {},
   "outputs": [],
   "source": [
    "class Trainer():\n",
    "\n",
    "    def __init__(self, model, optimizer, scheduler, num_epochs):\n",
    "        self.model = model \n",
    "        self.optimizer = optimizer\n",
    "        self.scheduler = scheduler \n",
    "        self.num_epochs = num_epochs\n",
    "\n",
    "    def train(self, train_dataset, val_dataset):\n",
    "\n",
    "        train_loss = []\n",
    "        val_loss = []\n",
    "        for epoch_idx in range(n_epochs):   \n",
    "\n",
    "            for batch_idx, sample in tqdm(enumerate(train_dataset), total=n_batches):\n",
    "\n",
    "                input_batch = sample['ocr']\n",
    "                label_batch = sample['clean']\n",
    "\n",
    "                # zero the gradients\n",
    "                optimizer.zero_grad()\n",
    "\n",
    "                # forward pass\n",
    "                model_out = model.forward(\n",
    "                    input_ids = input_batch, \n",
    "                    labels = label_batch    # not strictly necessarily, but if we do it,\n",
    "                                            # it computes the loss for us\n",
    "                )\n",
    "\n",
    "                loss = model_out.loss\n",
    "                train_loss.append(loss.item())\n",
    "\n",
    "                # compute the gradients\n",
    "                loss.backward()\n",
    "\n",
    "                # update the weights\n",
    "                optimizer.step()\n",
    "\n",
    "                # The scheduler adaptes the leraning rate\n",
    "                scheduler.step()\n",
    "\n",
    "                if (batch_idx + 1) % print_freq == 0:\n",
    "                    #average loss for the last 'print_freq' batches\n",
    "                    avg_loss = np.mean(train_loss[-print_freq:])\n",
    "                    eval_loss = self.eval_model(val_dataset)\n",
    "                    val_loss.append(eval_loss)\n",
    "                    print('Epoch: {} | Step: {} | Avg. train loss: {:.3f} | Avg. val loss: {:.3f} | lr: {}'.format(\n",
    "                        epoch_idx+1, batch_idx+1, avg_loss, eval_loss, scheduler.get_last_lr()[0]))\n",
    "\n",
    "\n",
    "            model.save_pretrained(f\"../model/checkpoints/mt5-base-run3-{epoch_idx}\")\n",
    "            tokenizer.save_pretrained(f\"../model/checkpoints/mt5-base-run3-{epoch_idx}\")            \n",
    "\n",
    "        return {\n",
    "            \"train_loss\": train_loss, \n",
    "            \"val_loss\": val_loss\n",
    "        }\n",
    "    \n",
    "\n",
    "    def eval_model(self, validation_dataset):\n",
    "        eval_losses = []\n",
    "\n",
    "        with torch.no_grad():\n",
    "            for sample in validation_dataset:\n",
    "                input_batch = sample['ocr']\n",
    "                label_batch = sample['clean']\n",
    "\n",
    "                # forward pass\n",
    "                model_out = model.forward(input_ids=input_batch, \n",
    "                                        labels=label_batch)     # As before we pass also the labels, so it \n",
    "                                                                # computes for us also the loss\n",
    "            \n",
    "                eval_losses.append(model_out.loss.item())\n",
    "\n",
    "        \n",
    "        return np.mean(eval_losses)"
   ]
  },
  {
   "cell_type": "markdown",
   "id": "85786c5d",
   "metadata": {},
   "source": [
    "The last thing to do, before training, is to load the data using the `DataLoader` module."
   ]
  },
  {
   "cell_type": "code",
   "execution_count": 24,
   "id": "7146d5e9",
   "metadata": {},
   "outputs": [],
   "source": [
    "training_dataset = DataLoader(training_samples, batch_size=train_batch_size, shuffle=True)\n",
    "validation_dataset = DataLoader(val_samples, batch_size=eval_batch_size)"
   ]
  },
  {
   "cell_type": "code",
   "execution_count": 25,
   "id": "05460c0b",
   "metadata": {},
   "outputs": [],
   "source": [
    "trainer = Trainer(model=model,\n",
    "                  optimizer=optimizer, \n",
    "                  num_epochs=n_epochs, \n",
    "                  scheduler=scheduler)"
   ]
  },
  {
   "cell_type": "code",
   "execution_count": 26,
   "id": "4b7238fe",
   "metadata": {},
   "outputs": [
    {
     "data": {
      "application/vnd.jupyter.widget-view+json": {
       "model_id": "8737b5418a9e44419b90179fbacaacc4",
       "version_major": 2,
       "version_minor": 0
      },
      "text/plain": [
       "  0%|          | 0/583 [00:00<?, ?it/s]"
      ]
     },
     "metadata": {},
     "output_type": "display_data"
    },
    {
     "name": "stderr",
     "output_type": "stream",
     "text": [
      "Passing a tuple of `past_key_values` is deprecated and will be removed in Transformers v4.48.0. You should pass an instance of `EncoderDecoderCache` instead, e.g. `past_key_values=EncoderDecoderCache.from_legacy_cache(past_key_values)`.\n"
     ]
    },
    {
     "name": "stdout",
     "output_type": "stream",
     "text": [
      "Epoch: 1 | Step: 25 | Avg. train loss: 11.151 | Avg. val loss: 5.247 | lr: 0.000493939393939394\n",
      "Epoch: 1 | Step: 50 | Avg. train loss: 3.646 | Avg. val loss: 1.604 | lr: 0.00048311688311688313\n",
      "Epoch: 1 | Step: 75 | Avg. train loss: 1.186 | Avg. val loss: 0.940 | lr: 0.00047229437229437225\n",
      "Epoch: 1 | Step: 100 | Avg. train loss: 0.816 | Avg. val loss: 0.793 | lr: 0.0004614718614718615\n",
      "Epoch: 1 | Step: 125 | Avg. train loss: 0.664 | Avg. val loss: 0.700 | lr: 0.00045064935064935066\n",
      "Epoch: 1 | Step: 150 | Avg. train loss: 0.622 | Avg. val loss: 0.595 | lr: 0.00043982683982683984\n",
      "Epoch: 1 | Step: 175 | Avg. train loss: 0.471 | Avg. val loss: 0.503 | lr: 0.000429004329004329\n",
      "Epoch: 1 | Step: 200 | Avg. train loss: 0.477 | Avg. val loss: 0.474 | lr: 0.00041818181818181814\n",
      "Epoch: 1 | Step: 225 | Avg. train loss: 0.454 | Avg. val loss: 0.426 | lr: 0.00040735930735930737\n",
      "Epoch: 1 | Step: 250 | Avg. train loss: 0.318 | Avg. val loss: 0.389 | lr: 0.00039653679653679655\n",
      "Epoch: 1 | Step: 275 | Avg. train loss: 0.308 | Avg. val loss: 0.374 | lr: 0.0003857142857142857\n",
      "Epoch: 1 | Step: 300 | Avg. train loss: 0.308 | Avg. val loss: 0.358 | lr: 0.0003748917748917749\n",
      "Epoch: 1 | Step: 325 | Avg. train loss: 0.374 | Avg. val loss: 0.353 | lr: 0.00036406926406926403\n",
      "Epoch: 1 | Step: 350 | Avg. train loss: 0.303 | Avg. val loss: 0.340 | lr: 0.00035324675324675326\n",
      "Epoch: 1 | Step: 375 | Avg. train loss: 0.333 | Avg. val loss: 0.336 | lr: 0.00034242424242424244\n",
      "Epoch: 1 | Step: 400 | Avg. train loss: 0.255 | Avg. val loss: 0.332 | lr: 0.0003316017316017316\n",
      "Epoch: 1 | Step: 425 | Avg. train loss: 0.273 | Avg. val loss: 0.322 | lr: 0.0003207792207792208\n",
      "Epoch: 1 | Step: 450 | Avg. train loss: 0.308 | Avg. val loss: 0.328 | lr: 0.0003099567099567099\n",
      "Epoch: 1 | Step: 475 | Avg. train loss: 0.278 | Avg. val loss: 0.315 | lr: 0.00029913419913419915\n",
      "Epoch: 1 | Step: 500 | Avg. train loss: 0.297 | Avg. val loss: 0.313 | lr: 0.0002883116883116883\n",
      "Epoch: 1 | Step: 525 | Avg. train loss: 0.269 | Avg. val loss: 0.306 | lr: 0.0002774891774891775\n",
      "Epoch: 1 | Step: 550 | Avg. train loss: 0.345 | Avg. val loss: 0.304 | lr: 0.0002666666666666667\n",
      "Epoch: 1 | Step: 575 | Avg. train loss: 0.239 | Avg. val loss: 0.303 | lr: 0.0002558441558441558\n"
     ]
    },
    {
     "data": {
      "application/vnd.jupyter.widget-view+json": {
       "model_id": "67d1e8ac70bf46cab9d92611a7cd92bc",
       "version_major": 2,
       "version_minor": 0
      },
      "text/plain": [
       "  0%|          | 0/583 [00:00<?, ?it/s]"
      ]
     },
     "metadata": {},
     "output_type": "display_data"
    },
    {
     "name": "stdout",
     "output_type": "stream",
     "text": [
      "Epoch: 2 | Step: 25 | Avg. train loss: 0.122 | Avg. val loss: 0.301 | lr: 0.00024155844155844156\n",
      "Epoch: 2 | Step: 50 | Avg. train loss: 0.127 | Avg. val loss: 0.305 | lr: 0.00023073593073593074\n",
      "Epoch: 2 | Step: 75 | Avg. train loss: 0.150 | Avg. val loss: 0.308 | lr: 0.00021991341991341992\n",
      "Epoch: 2 | Step: 100 | Avg. train loss: 0.132 | Avg. val loss: 0.305 | lr: 0.00020909090909090907\n",
      "Epoch: 2 | Step: 125 | Avg. train loss: 0.132 | Avg. val loss: 0.306 | lr: 0.00019826839826839827\n",
      "Epoch: 2 | Step: 150 | Avg. train loss: 0.133 | Avg. val loss: 0.304 | lr: 0.00018744588744588745\n",
      "Epoch: 2 | Step: 175 | Avg. train loss: 0.129 | Avg. val loss: 0.301 | lr: 0.00017662337662337663\n",
      "Epoch: 2 | Step: 200 | Avg. train loss: 0.141 | Avg. val loss: 0.300 | lr: 0.0001658008658008658\n",
      "Epoch: 2 | Step: 225 | Avg. train loss: 0.101 | Avg. val loss: 0.298 | lr: 0.00015497835497835496\n",
      "Epoch: 2 | Step: 250 | Avg. train loss: 0.164 | Avg. val loss: 0.300 | lr: 0.00014415584415584416\n",
      "Epoch: 2 | Step: 275 | Avg. train loss: 0.134 | Avg. val loss: 0.296 | lr: 0.00013333333333333334\n",
      "Epoch: 2 | Step: 300 | Avg. train loss: 0.158 | Avg. val loss: 0.294 | lr: 0.00012251082251082252\n",
      "Epoch: 2 | Step: 325 | Avg. train loss: 0.150 | Avg. val loss: 0.297 | lr: 0.00011168831168831168\n",
      "Epoch: 2 | Step: 350 | Avg. train loss: 0.114 | Avg. val loss: 0.297 | lr: 0.00010086580086580087\n",
      "Epoch: 2 | Step: 375 | Avg. train loss: 0.130 | Avg. val loss: 0.297 | lr: 9.004329004329005e-05\n",
      "Epoch: 2 | Step: 400 | Avg. train loss: 0.156 | Avg. val loss: 0.297 | lr: 7.922077922077923e-05\n",
      "Epoch: 2 | Step: 425 | Avg. train loss: 0.144 | Avg. val loss: 0.298 | lr: 6.83982683982684e-05\n",
      "Epoch: 2 | Step: 450 | Avg. train loss: 0.108 | Avg. val loss: 0.298 | lr: 5.757575757575758e-05\n",
      "Epoch: 2 | Step: 475 | Avg. train loss: 0.124 | Avg. val loss: 0.297 | lr: 4.675324675324675e-05\n",
      "Epoch: 2 | Step: 500 | Avg. train loss: 0.110 | Avg. val loss: 0.296 | lr: 3.593073593073593e-05\n",
      "Epoch: 2 | Step: 525 | Avg. train loss: 0.141 | Avg. val loss: 0.296 | lr: 2.5108225108225108e-05\n",
      "Epoch: 2 | Step: 550 | Avg. train loss: 0.136 | Avg. val loss: 0.295 | lr: 1.4285714285714285e-05\n",
      "Epoch: 2 | Step: 575 | Avg. train loss: 0.131 | Avg. val loss: 0.295 | lr: 3.4632034632034634e-06\n"
     ]
    }
   ],
   "source": [
    "history = trainer.train(training_dataset, validation_dataset)"
   ]
  },
  {
   "cell_type": "code",
   "execution_count": 27,
   "id": "c8544ebd",
   "metadata": {},
   "outputs": [
    {
     "data": {
      "text/plain": [
       "('../model/fine-tuned-models/mt5-base-run3/tokenizer_config.json',\n",
       " '../model/fine-tuned-models/mt5-base-run3/special_tokens_map.json',\n",
       " '../model/fine-tuned-models/mt5-base-run3/spiece.model',\n",
       " '../model/fine-tuned-models/mt5-base-run3/added_tokens.json',\n",
       " '../model/fine-tuned-models/mt5-base-run3/tokenizer.json')"
      ]
     },
     "execution_count": 27,
     "metadata": {},
     "output_type": "execute_result"
    }
   ],
   "source": [
    "# Save the model and tokenizer\n",
    "model.save_pretrained(\"../model/fine-tuned-models/mt5-base-run3\")\n",
    "tokenizer.save_pretrained(\"../model/fine-tuned-models/mt5-base-run3\")"
   ]
  },
  {
   "cell_type": "markdown",
   "id": "8e6c8710",
   "metadata": {},
   "source": [
    "#### Plots"
   ]
  },
  {
   "cell_type": "code",
   "execution_count": 28,
   "id": "d39fcc5d",
   "metadata": {},
   "outputs": [],
   "source": [
    "def plot(data, label):\n",
    "    plt.plot(data, label=label)\n",
    "    plt.legend()\n",
    "    plt.show()"
   ]
  },
  {
   "cell_type": "code",
   "execution_count": 29,
   "id": "addab164",
   "metadata": {},
   "outputs": [
    {
     "data": {
      "image/png": "[encoded data removed]",
      "text/plain": [
       "<Figure size 640x480 with 1 Axes>"
      ]
     },
     "metadata": {},
     "output_type": "display_data"
    }
   ],
   "source": [
    "plot(history['train_loss'], label='Train loss')"
   ]
  },
  {
   "cell_type": "code",
   "execution_count": 30,
   "id": "f811dd87",
   "metadata": {},
   "outputs": [
    {
     "data": {
      "image/png": "[encoded data removed]",
      "text/plain": [
       "<Figure size 640x480 with 1 Axes>"
      ]
     },
     "metadata": {},
     "output_type": "display_data"
    }
   ],
   "source": [
    "plot(history['val_loss'], label='Evaluation loss')"
   ]
  },
  {
   "cell_type": "markdown",
   "id": "25b26f23",
   "metadata": {},
   "source": [
    "#### Testing and Inference"
   ]
  },
  {
   "cell_type": "code",
   "execution_count": 6,
   "id": "5b7591c4",
   "metadata": {},
   "outputs": [],
   "source": [
    "# Load the fine-tuned model\n",
    "mt5_finetuned = AutoModelForSeq2SeqLM.from_pretrained(\"../model/fine-tuned-models/mt5-base-run3\")\n",
    "mt5_tokenizer = AutoTokenizer.from_pretrained(\"../model/fine-tuned-models/mt5-base-run3\")"
   ]
  },
  {
   "cell_type": "code",
   "execution_count": null,
   "id": "e6bf63ee",
   "metadata": {},
   "outputs": [],
   "source": [
    "mt5_finetuned.eval()"
   ]
  },
  {
   "cell_type": "code",
   "execution_count": 9,
   "id": "a4be470d",
   "metadata": {},
   "outputs": [],
   "source": [
    "# Load the test dataset\n",
    "test = load_from_disk(\"../datasets/t5-datasets/test\")"
   ]
  },
  {
   "cell_type": "markdown",
   "id": "bed498a3",
   "metadata": {},
   "source": [
    "#### Data preparation for inference"
   ]
  },
  {
   "cell_type": "code",
   "execution_count": 10,
   "id": "4c94d87d",
   "metadata": {},
   "outputs": [],
   "source": [
    "chunked_test_data, tokenized_chunked_test_data = chunk_dataset(test, mt5_tokenizer)"
   ]
  },
  {
   "cell_type": "code",
   "execution_count": 11,
   "id": "8f16d052",
   "metadata": {},
   "outputs": [
    {
     "name": "stdout",
     "output_type": "stream",
     "text": [
      "ocr: I. Como andò che Maestro Ciliegia, Megnamc trovò un p,  clean: I.Come andò che Maestro Ciliegia, falegname trovò un p\n",
      "ocr: ezzo di legno che piangeva e rideva come un bambino.,  clean: ezzo di legno che piangeva e rideva come un bambino.\n",
      "ocr: — C'era una volta.... — Un re!,  clean: — C’era una volta.... — Un re!\n",
      "ocr: -diranno subito i miei piccoli lettori.,  clean: — diranno subito i miei piccoli lettori.\n",
      "ocr: — Ko, ragazzi, avete sbagliato.,  clean: — No, ragazzi, avete sbagliato.\n",
      "ocr: C'era una volta un pezzo di legno.,  clean: C’era una volta un pezzo di legno.\n",
      "ocr: Kon era un legno di lusso, ma un semplice pezzo da catasta,,  clean: Non era un legno di lusso, ma un semplice pezzo da catasta,\n",
      "ocr: di quelli che d' inverno si met- tono nelle stufe e,  clean: di quelli che d’inverno si mettono nelle stufe e\n",
      "ocr: nei caminetti per accendere il fuoco e per riscaldare le stanze,  clean: nei caminetti per accendere il fuoco e per riscaldare le stanze\n",
      "ocr: Non so come andasse, ma il fatto gli è che un bel giorno',  clean: Non so come andasse, ma il fatto gli è che un bel giorno\n"
     ]
    }
   ],
   "source": [
    "# Let's print the first 10 samples and look at the result\n",
    "i = 0\n",
    "for ocr, clean in zip(chunked_test_data['ocr'], chunked_test_data['clean']):\n",
    "    print(f'ocr: {ocr},  clean: {clean}')\n",
    "    i += 1\n",
    "    if i == 10:\n",
    "        break"
   ]
  },
  {
   "cell_type": "code",
   "execution_count": 12,
   "id": "b64e9c27",
   "metadata": {},
   "outputs": [
    {
     "name": "stdout",
     "output_type": "stream",
     "text": [
      "All fine\n"
     ]
    }
   ],
   "source": [
    "# Sanity check, verify that the produced chunks have all size 20\n",
    "dataset_size = len(tokenized_chunked_test_data['ocr'])\n",
    "for i in range(dataset_size):\n",
    "    if tokenized_chunked_test_data['ocr'][i].shape != torch.Size([20]) or tokenized_chunked_test_data['clean'][i].shape != torch.Size([20]):\n",
    "        print(i)\n",
    "        print(tokenized_chunked_test_data['ocr'][i])\n",
    "        print(tokenized_chunked_test_data['clean'][i])\n",
    "        print(\"ERROR: some samples have not size 20\")\n",
    "        break\n",
    "print(\"All fine\")"
   ]
  },
  {
   "cell_type": "markdown",
   "id": "302a00a3",
   "metadata": {},
   "source": [
    "Finally, we are ready to create the test samples and load them."
   ]
  },
  {
   "cell_type": "code",
   "execution_count": 13,
   "id": "0ce19ae2",
   "metadata": {},
   "outputs": [],
   "source": [
    "test_samples = CustomDataset(dataset=tokenized_chunked_test_data)"
   ]
  },
  {
   "cell_type": "code",
   "execution_count": 14,
   "id": "0a8b1d68",
   "metadata": {},
   "outputs": [],
   "source": [
    "test_dataset = DataLoader(test_samples, batch_size=8)"
   ]
  },
  {
   "cell_type": "markdown",
   "id": "5b30ebb5",
   "metadata": {},
   "source": [
    "#### Rouge Scores\n",
    "To evaluate the results we'll use the rouge scores."
   ]
  },
  {
   "cell_type": "code",
   "execution_count": null,
   "id": "f0a7a499",
   "metadata": {},
   "outputs": [],
   "source": [
    "metric = evaluate.load(\"rouge\")"
   ]
  },
  {
   "cell_type": "code",
   "execution_count": 16,
   "id": "f0d12cdb",
   "metadata": {},
   "outputs": [],
   "source": [
    "def postprocess_text(preds, labels, inputs):\n",
    "    preds = [pred.strip() for pred in preds]\n",
    "    labels = [label.strip() for label in labels]\n",
    "    inputs = [inp.strip() for inp in inputs]\n",
    "\n",
    "    return preds, labels, inputs\n",
    "\n",
    "def generate_predictions(dataset, model, tokenizer):\n",
    "    preds_and_labels = [] # list of dictionaries of type {'in': [], 'hyp': [], 'ref': [] }\n",
    "\n",
    "    for sample in dataset:\n",
    "        input_batch = sample['ocr']\n",
    "        label_batch = sample['clean']\n",
    "\n",
    "        preds = model.generate(input_batch, num_beams=8, num_return_sequences=1)\n",
    "        decoded_preds = tokenizer.batch_decode(preds, skip_special_tokens=True)\n",
    "        decoded_labels = tokenizer.batch_decode(label_batch, skip_special_tokens=True)\n",
    "        decoded_inputs = tokenizer.batch_decode(input_batch, skip_special_tokens=True)\n",
    "\n",
    "        decoded_preds, decoded_labels, decoded_inputs = postprocess_text(decoded_preds, decoded_labels, decoded_inputs)\n",
    "\n",
    "        for i in range(len(decoded_preds)):\n",
    "            d = {}\n",
    "            \n",
    "            d['in'] = decoded_inputs[i]\n",
    "            d['hyp'] = decoded_preds[i]\n",
    "            d['ref'] = decoded_labels[i]\n",
    "\n",
    "            preds_and_labels.append(d)\n",
    "        \n",
    "    return preds_and_labels\n",
    "    "
   ]
  },
  {
   "cell_type": "code",
   "execution_count": 17,
   "id": "63958fdd",
   "metadata": {},
   "outputs": [],
   "source": [
    "predictions = generate_predictions(test_dataset, model=mt5_finetuned, tokenizer=mt5_tokenizer)"
   ]
  },
  {
   "cell_type": "code",
   "execution_count": 18,
   "id": "a4dd8320",
   "metadata": {},
   "outputs": [
    {
     "name": "stdout",
     "output_type": "stream",
     "text": [
      "{'rouge1': 0.9287623993451968, 'rouge2': 0.8663957268255451, 'rougeL': 0.929385523849338, 'rougeLsum': 0.9292232979553721}\n"
     ]
    }
   ],
   "source": [
    "preds = []\n",
    "references = []\n",
    "\n",
    "for sample in predictions:\n",
    "    preds.append(sample['hyp'])\n",
    "    references.append(sample['ref'])\n",
    "\n",
    "rouge_scores = metric.compute(predictions=preds, references=references)\n",
    "print(rouge_scores)"
   ]
  },
  {
   "cell_type": "code",
   "execution_count": 19,
   "id": "e9ec3e71",
   "metadata": {},
   "outputs": [],
   "source": [
    "# save a .json file with the predictions\n",
    "with open('../results/mt5-base-output-run3.json', 'w', encoding='utf-8') as f:\n",
    "    json.dump(predictions, f, ensure_ascii=False, indent=4)"
   ]
  }
 ],
 "metadata": {
  "kernelspec": {
   "display_name": "Python 3",
   "language": "python",
   "name": "python3"
  },
  "language_info": {
   "codemirror_mode": {
    "name": "ipython",
    "version": 3
   },
   "file_extension": ".py",
   "mimetype": "text/x-python",
   "name": "python",
   "nbconvert_exporter": "python",
   "pygments_lexer": "ipython3",
   "version": "3.10.12"
  }
 },
 "nbformat": 4,
 "nbformat_minor": 5
}
